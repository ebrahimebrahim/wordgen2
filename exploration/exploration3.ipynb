{
 "cells": [
  {
   "cell_type": "markdown",
   "metadata": {},
   "source": [
    "Goal: Use data from [phoible](https://phoible.org/) to learn a useful embedding from phonological feature space to a vector space in which distances between allophones tend to be small. Go to the [phoible project github](https://github.com/phoible/dev/tree/master/data) and grab phoible.csv for this exploration."
   ]
  },
  {
   "cell_type": "code",
   "execution_count": 1,
   "metadata": {},
   "outputs": [],
   "source": [
    "%matplotlib inline\n",
    "\n",
    "import numpy as np\n",
    "import torch\n",
    "import matplotlib.pyplot as plt"
   ]
  },
  {
   "cell_type": "code",
   "execution_count": 2,
   "metadata": {},
   "outputs": [],
   "source": [
    "import torch.nn as nn\n",
    "\n",
    "class EmbedPhones(nn.Module):\n",
    "\n",
    "    def __init__(self, num_features):\n",
    "        super(EmbedPhones, self).__init__()\n",
    "        \n",
    "        self.res = nn.Linear(num_features,num_features,bias=False)\n",
    "#         identity=torch.from_numpy(np.identity(num_features,dtype=np.dtype('float32')))\n",
    "        with torch.no_grad():\n",
    "            self.res.weight.normal_(0,0.02)\n",
    "#             self.embed.weight += identity\n",
    "        \n",
    "    def forward(self, x):\n",
    "        \n",
    "        return x+self.res(x) # res represents the difference between the embedding map and the identity map\n"
   ]
  },
  {
   "cell_type": "code",
   "execution_count": 3,
   "metadata": {},
   "outputs": [],
   "source": [
    "import os,sys\n",
    "def add_path_to_local_module(module_name):\n",
    "    module_path = os.path.abspath(os.path.join(module_name))\n",
    "    if module_path not in sys.path:\n",
    "        sys.path.append(module_path)\n",
    "add_path_to_local_module(\"epitran\")\n",
    "add_path_to_local_module(\"panphon\")\n",
    "\n",
    "import panphon.featuretable\n",
    "ft = panphon.featuretable.FeatureTable()"
   ]
  },
  {
   "cell_type": "code",
   "execution_count": 42,
   "metadata": {},
   "outputs": [
    {
     "name": "stdout",
     "output_type": "stream",
     "text": [
      "22  features for 'ɛ æ':\n",
      " tensor([[ 1.,  1., -1.,  1., -1., -1., -1.,  0.,  1., -1., -1.,  0., -1.,  0.,\n",
      "         -1., -1., -1., -1., -1., -1., -1., -1.],\n",
      "        [ 1.,  1., -1.,  1., -1., -1., -1.,  0.,  1., -1., -1.,  0., -1.,  0.,\n",
      "         -1., -1.,  1., -1., -1., -1.,  1., -1.]])\n"
     ]
    },
    {
     "data": {
      "text/plain": [
       "tensor([[ 0.9486,  0.9451, -1.0057,  1.0384, -0.9933, -0.9214, -0.8904,  0.0118,\n",
       "          1.0741, -1.0438, -0.8976, -0.0408, -0.8806,  0.1583, -1.0287, -0.8424,\n",
       "         -1.0076, -1.0662, -0.9870, -1.2064, -1.0250, -0.7921],\n",
       "        [ 0.8831,  0.8563, -0.9621,  1.0578, -1.0437, -0.9246, -0.9461,  0.1144,\n",
       "          1.1458, -1.0647, -0.9020, -0.0454, -1.0274,  0.0675, -0.9158, -0.8595,\n",
       "          1.0839, -1.0030, -0.8824, -1.1644,  0.9948, -0.8598]],\n",
       "       grad_fn=<AddBackward0>)"
      ]
     },
     "execution_count": 42,
     "metadata": {},
     "output_type": "execute_result"
    }
   ],
   "source": [
    "class PanphonNoLikey(Exception):\n",
    "    pass\n",
    "\n",
    "class NoAvailableData(Exception):\n",
    "    pass\n",
    "\n",
    "def to_panphon_fts(ipa_symbols):\n",
    "    \"\"\" Convert a string of ipa symbols to a torch matrix whose rows are features.\n",
    "        Do not include duplicates when panphon identifies symbols in terms of features. \"\"\"\n",
    "    if ipa_symbols == \"NA\" :  raise NoAvailableData(\"The string you gave indicates that there's no allophone data\")\n",
    "    fts = ft.word_to_vector_list(ipa_symbols,numeric=True)\n",
    "    if not fts : raise PanphonNoLikey(\"Panphon does not recognize the IPA symbol \"+str(ipa_symbols))\n",
    "    fts = np.array(fts) \n",
    "    fts = np.unique(fts,axis=0) # panphon will identify some things; this gets rid of duplicates\n",
    "    fts = fts.astype(np.dtype('float32'))\n",
    "    return torch.from_numpy(fts)\n",
    "\n",
    "feats = to_panphon_fts('ɛ æ')\n",
    "num_features = len(feats[0])\n",
    "print(num_features,\" features for 'ɛ æ':\\n\",feats)\n",
    "emb = EmbedPhones(num_features)\n",
    "emb(feats)"
   ]
  },
  {
   "cell_type": "code",
   "execution_count": 75,
   "metadata": {},
   "outputs": [],
   "source": [
    "class SuppressedMessenger(object):\n",
    "    \"\"\" A class to output messages with output being supressed at a certain point.\"\"\"\n",
    "    def __init__(self,name,max_messages):\n",
    "        self.name = name\n",
    "        self.num_printed = 0\n",
    "        self.max_messages = max_messages\n",
    "        self.stopped_printing = False if max_messages > 0 else True\n",
    "\n",
    "    def print(self,msg):\n",
    "        if self.num_printed < self.max_messages:\n",
    "            print(msg)\n",
    "            self.num_printed += 1\n",
    "        elif not self.stopped_printing:\n",
    "            print(\"[Further output regarding \"+self.name+\" will be suppressed]\")\n",
    "            self.stopped_printing = True"
   ]
  },
  {
   "cell_type": "code",
   "execution_count": 135,
   "metadata": {
    "scrolled": false
   },
   "outputs": [
    {
     "name": "stdout",
     "output_type": "stream",
     "text": [
      "Building mapping from phoible phonemes to feature space...\n",
      "Skipping phoneme ɹ̪̹̩: weird feature label\n",
      "Skipping phoneme ɻ̹̩: weird feature label\n",
      "Skipping phoneme ɹ̪̹̩: weird feature label\n"
     ]
    }
   ],
   "source": [
    "import csv\n",
    "\n",
    "feat_vals = {'+':1,'-':-1,'0':0}\n",
    "\n",
    "to_phoible_feats_dict = {}\n",
    "\n",
    "f = open('phoible.csv')\n",
    "reader = csv.reader(f)\n",
    "head = next(reader)\n",
    "phoneme_index = head.index('Phoneme')\n",
    "langkey_index = head.index('ISO6393')\n",
    "first_feat_index = head.index('tone')\n",
    "last_feat_index = head.index('click')\n",
    "skipped_msg = SuppressedMessenger(\"bad feature labels\", 10)\n",
    "contradiction_msg = SuppressedMessenger(\"phoible contradictions\", 30)\n",
    "print(\"Building mapping from phoible phonemes to feature space...\")\n",
    "for i,row in enumerate(reader):\n",
    "    phoneme = row[phoneme_index]\n",
    "    raw_feats = row[first_feat_index:last_feat_index+1]\n",
    "#     if any(len(feat)>1 for feat in raw_feats):\n",
    "#         skipped_msg.print(\"Skipping phoneme \"+phoneme+\": multiple feature labels\")\n",
    "    #Instead lets add together multiple feature labels\n",
    "    \n",
    "    try:\n",
    "        feats = np.array([sum(feat_vals[v] for v in val.split(',')) for val in raw_feats],dtype=np.dtype('float32'))\n",
    "    except KeyError:\n",
    "        skipped_msg.print(\"Skipping phoneme \"+phoneme+\": weird feature label\")\n",
    "    if phoneme in to_phoible_feats_dict.keys():\n",
    "        if not np.array_equal(feats,to_phoible_feats_dict[phoneme]):\n",
    "            contradiction_msg.print(\"Phoible contradiction for phoneme \"+phoneme+\"; language \"+row[langkey_index]+\" conflicts w/ prev entry\")\n",
    "    else:\n",
    "        to_phoible_feats_dict[phoneme] = feats\n",
    "f.close()"
   ]
  },
  {
   "cell_type": "code",
   "execution_count": 136,
   "metadata": {},
   "outputs": [
    {
     "data": {
      "text/plain": [
       "(3183, 37)"
      ]
     },
     "execution_count": 136,
     "metadata": {},
     "output_type": "execute_result"
    }
   ],
   "source": [
    "num_features = len(to_phoible_feats_dict['a'])\n",
    "len(to_phoible_feats_dict),num_features"
   ]
  },
  {
   "cell_type": "code",
   "execution_count": 180,
   "metadata": {},
   "outputs": [],
   "source": [
    "# will need to convert some ipa segs produced by epitran into the representation in phoible\n",
    "epitran_to_phoible_replacements = {\n",
    "    'd͡ʒ':'d̠ʒ',\n",
    "    't͡ʃ':'t̠ʃ',\n",
    "    't͡ɕ':'tɕ',\n",
    "    't͡s':'ts',\n",
    "    'd͡ʑ':'dʑ',\n",
    "}\n",
    "\n",
    "def epitran_to_phoible(epitran_ipa):\n",
    "    phoible_ipa = epitran_ipa\n",
    "    for a,b in epitran_to_phoible_replacements.items():\n",
    "        phoible_ipa = phoible_ipa.replace(a,b)\n",
    "    return phoible_ipa"
   ]
  },
  {
   "cell_type": "code",
   "execution_count": 162,
   "metadata": {},
   "outputs": [],
   "source": [
    "class NoPhoibleFeatures(Exception):\n",
    "    pass\n",
    "\n",
    "def to_phoible_fts(ipa_symbols):\n",
    "    \"\"\" Convert a string of ipa symbols to a torch matrix whose rows are features.\n",
    "        Do not include duplicates when panphon identifies symbols in terms of features. \"\"\"\n",
    "    if ipa_symbols == \"NA\" :  raise NoAvailableData(\"The string you gave indicates that there's no allophone data\")\n",
    "    fts=[]\n",
    "    for ft in ipa_symbols.split():\n",
    "        ft = epitran_to_phoible(ft)\n",
    "        try:\n",
    "            fts.append(to_phoible_feats_dict[ft])\n",
    "        except KeyError:\n",
    "            continue\n",
    "    if not fts:\n",
    "        raise NoPhoibleFeatures(\"All the phonemes in '\"+ipa_symbols+\"' are giving trouble\")\n",
    "    fts = np.array(fts) \n",
    "    fts = np.unique(fts,axis=0) # do not allow duplicates. TODO: actually you should raise error if you see duplicates; it's not supposed to happen with phoible\n",
    "    fts = fts.astype(np.dtype('float32')) # this is not needed i think, dtype was already set\n",
    "    return torch.from_numpy(fts)"
   ]
  },
  {
   "cell_type": "code",
   "execution_count": 97,
   "metadata": {},
   "outputs": [],
   "source": [
    "import csv\n",
    "\n",
    "def allophone_data_by_language(num_lists=np.inf):\n",
    "    f = open('phoible.csv')\n",
    "    reader = csv.reader(f)\n",
    "    head = next(reader)\n",
    "    allophones_index = head.index('Allophones')\n",
    "    langkey_index = head.index('ISO6393')\n",
    "    last_langkey = \"not a lang key\"\n",
    "    num_yielded = 0\n",
    "    for i,row in enumerate(reader):\n",
    "        if row[langkey_index] != last_langkey:\n",
    "#             print(\"About to yield data for language\",last_langkey)\n",
    "            last_langkey = row[langkey_index]\n",
    "            if i!=0 and allophone_data:\n",
    "                yield allophone_data\n",
    "                num_yielded += 1\n",
    "            if num_yielded >= num_lists: break\n",
    "            allophone_data = []\n",
    "        try:\n",
    "            allophone_list = to_panphon_fts(row[allophones_index])\n",
    "        except PanphonNoLikey: # We will just skip the entire list of allophones in this case\n",
    "            continue\n",
    "        except NoAvailableData: # We will just skip the entire list of allophones in this case\n",
    "            continue\n",
    "        allophone_data.append(allophone_list)\n",
    "    f.close()"
   ]
  },
  {
   "cell_type": "code",
   "execution_count": 105,
   "metadata": {},
   "outputs": [],
   "source": [
    "import csv\n",
    "\n",
    "def allophone_data_by_language_phoible(num_lists=np.inf):\n",
    "    f = open('phoible.csv')\n",
    "    reader = csv.reader(f)\n",
    "    head = next(reader)\n",
    "    allophones_index = head.index('Allophones')\n",
    "    langkey_index = head.index('ISO6393')\n",
    "    last_langkey = \"not a lang key\"\n",
    "    num_yielded = 0\n",
    "    for i,row in enumerate(reader):\n",
    "        if row[langkey_index] != last_langkey:\n",
    "#             print(\"About to yield data for language\",last_langkey)\n",
    "            last_langkey = row[langkey_index]\n",
    "            if i!=0 and allophone_data:\n",
    "                yield allophone_data\n",
    "                num_yielded += 1\n",
    "            if num_yielded >= num_lists: break\n",
    "            allophone_data = []\n",
    "        try:\n",
    "            allophone_list = to_phoible_fts(row[allophones_index])\n",
    "        except NoAvailableData: # We will just skip the entire list of allophones in this case\n",
    "            continue\n",
    "        allophone_data.append(allophone_list)\n",
    "    f.close()"
   ]
  },
  {
   "cell_type": "code",
   "execution_count": 98,
   "metadata": {
    "scrolled": true
   },
   "outputs": [],
   "source": [
    "allophone_data_by_language_list = list(allophone_data_by_language())"
   ]
  },
  {
   "cell_type": "code",
   "execution_count": 106,
   "metadata": {},
   "outputs": [],
   "source": [
    "allophone_data_by_language_phoible_list = list(allophone_data_by_language_phoible())"
   ]
  },
  {
   "cell_type": "code",
   "execution_count": 9,
   "metadata": {},
   "outputs": [],
   "source": [
    "import random\n",
    "\n",
    "def allophone_data_by_language_shuffled():\n",
    "    indices = list(range(len(allophone_data_by_language_list)))\n",
    "    random.shuffle(indices)\n",
    "    for index in indices:\n",
    "        yield allophone_data_by_language_list[index]"
   ]
  },
  {
   "cell_type": "code",
   "execution_count": 107,
   "metadata": {},
   "outputs": [],
   "source": [
    "import random\n",
    "\n",
    "def allophone_data_by_language_phoible_shuffled():\n",
    "    indices = list(range(len(allophone_data_by_language_phoible_list)))\n",
    "    random.shuffle(indices)\n",
    "    for index in indices:\n",
    "        yield allophone_data_by_language_phoible_list[index]"
   ]
  },
  {
   "cell_type": "code",
   "execution_count": 10,
   "metadata": {},
   "outputs": [],
   "source": [
    "def distinct_pairs(N):\n",
    "    \"\"\"Generate pairs of integers i<j such that 0 <= i < j < N\"\"\"\n",
    "    for i in range(N):\n",
    "        for j in range(i+1,N):\n",
    "            yield i,j"
   ]
  },
  {
   "cell_type": "code",
   "execution_count": 11,
   "metadata": {},
   "outputs": [],
   "source": [
    "def sqdist(x,y):\n",
    "    \"\"\"Return squared distance between two 1D torch tensors\"\"\"\n",
    "    return ((x-y)**2).sum()"
   ]
  },
  {
   "cell_type": "code",
   "execution_count": 12,
   "metadata": {},
   "outputs": [],
   "source": [
    "import torch.optim as optim\n",
    "\n",
    "emb = EmbedPhones(num_features)\n",
    "lr = 0.0001\n",
    "optimizer = optim.Adam(emb.parameters(),lr=lr,weight_decay=1.)"
   ]
  },
  {
   "cell_type": "code",
   "execution_count": null,
   "metadata": {
    "scrolled": false
   },
   "outputs": [],
   "source": [
    "epochs = 4\n",
    "costs = []\n",
    "for e in range(epochs):\n",
    "    for step_num,allophone_data in enumerate(allophone_data_by_language_shuffled()):\n",
    "\n",
    "        allophone_dists   = 0.\n",
    "        nallophone_dists  = 0. \n",
    "\n",
    "        optimizer.zero_grad()\n",
    "\n",
    "        for allophone_list in allophone_data:\n",
    "            for i,j in distinct_pairs(len(allophone_list)):\n",
    "                allophone_dists += sqdist(emb(allophone_list[i]),emb(allophone_list[j]))\n",
    "        for i,j in distinct_pairs(len(allophone_data)):\n",
    "            for x in allophone_data[i]:\n",
    "                for y in allophone_data[j]:\n",
    "                    nallophone_dists += sqdist(emb(x),emb(y))\n",
    "\n",
    "        cost = allophone_dists - 0.05 * nallophone_dists\n",
    "        cost.backward()\n",
    "        costs.append(cost.item())\n",
    "        if step_num%50==0:\n",
    "            print(step_num,\"languages processed. Avg cost: \",np.mean(costs))\n",
    "            costs = []\n",
    "        optimizer.step()"
   ]
  },
  {
   "cell_type": "code",
   "execution_count": 13,
   "metadata": {
    "scrolled": true
   },
   "outputs": [
    {
     "data": {
      "text/plain": [
       "Parameter containing:\n",
       "tensor([[ 2.9702e-02, -1.2109e-02, -1.0308e-02, -1.3416e-02, -2.2243e-02,\n",
       "          1.8969e-02,  3.0674e-03, -3.3947e-02,  4.4120e-02,  2.6205e-02,\n",
       "          1.4750e-02, -1.9857e-03,  2.0973e-02, -1.4108e-02, -2.3543e-02,\n",
       "         -3.8274e-02,  2.9040e-02,  2.8446e-02,  1.3219e-02, -1.7243e-02,\n",
       "         -1.9335e-02, -1.7170e-02],\n",
       "        [-3.2061e-02, -2.6353e-02,  5.6516e-03, -1.7991e-02, -1.1083e-02,\n",
       "          9.3567e-03,  1.1627e-02, -3.8170e-03,  2.8208e-03, -4.8546e-03,\n",
       "         -3.1288e-02, -1.3929e-02, -2.2132e-02,  1.5299e-02, -2.7837e-02,\n",
       "         -3.2487e-02,  2.3885e-03, -2.5825e-03,  3.9956e-02,  7.3199e-03,\n",
       "         -2.3272e-03,  1.3580e-02],\n",
       "        [ 5.2027e-03, -3.7826e-03, -4.3033e-03,  1.4576e-02, -2.3403e-02,\n",
       "          2.1581e-02, -4.2285e-03, -4.1415e-04,  9.5291e-03,  1.9187e-02,\n",
       "         -1.7337e-02,  3.2390e-03,  2.8560e-02,  1.2132e-02,  6.0682e-05,\n",
       "          1.7935e-03,  5.9884e-03, -1.4941e-02,  1.6826e-03,  1.6493e-02,\n",
       "          9.8465e-04, -1.8151e-02],\n",
       "        [ 1.9909e-02, -1.8499e-02, -3.2481e-02,  1.2127e-02, -2.6114e-02,\n",
       "          2.6050e-03,  9.3796e-03, -1.8924e-02, -5.9400e-03,  7.1507e-03,\n",
       "         -4.2642e-02,  2.1007e-02, -1.0886e-02,  3.2416e-02,  4.2022e-02,\n",
       "          1.7025e-02, -2.2491e-02,  5.9534e-03,  2.4487e-02,  1.6258e-02,\n",
       "          5.4318e-03, -2.6168e-02],\n",
       "        [-2.8235e-03,  3.6635e-02, -2.6988e-02, -1.1424e-02, -1.7267e-02,\n",
       "          4.2057e-03, -2.4630e-02, -1.9846e-02, -3.2987e-02,  1.4911e-02,\n",
       "          1.5887e-02,  2.8133e-02,  1.6861e-02, -2.1531e-02, -5.0576e-03,\n",
       "         -1.5658e-02,  3.4177e-03,  3.2856e-02,  7.2724e-04, -3.5746e-03,\n",
       "          2.1170e-02, -9.8587e-03],\n",
       "        [ 1.5095e-02,  1.9914e-02, -6.2235e-03, -1.0737e-02,  2.6163e-02,\n",
       "          2.4326e-03, -3.5832e-02,  1.6824e-02,  5.2906e-03,  3.1945e-03,\n",
       "         -2.0077e-02, -9.6405e-03,  3.0666e-02, -2.3656e-02, -7.6541e-03,\n",
       "          1.2226e-02, -5.1474e-03,  2.9266e-02, -3.5672e-02, -5.4774e-03,\n",
       "         -3.2595e-02,  1.3727e-02],\n",
       "        [-1.3081e-02,  1.1026e-02,  7.5798e-03, -1.7791e-02, -6.9639e-03,\n",
       "          3.0803e-02, -1.5057e-02, -1.4682e-02,  3.0580e-02, -1.7968e-02,\n",
       "         -8.1725e-03, -4.4404e-02,  1.7449e-02, -6.7613e-03, -7.8112e-03,\n",
       "         -1.5894e-02,  5.3475e-03,  9.3417e-03,  2.5698e-03, -6.5476e-03,\n",
       "          2.7044e-02,  7.9586e-03],\n",
       "        [-3.0708e-03, -2.5928e-02, -1.4925e-02, -4.1670e-04,  2.2378e-03,\n",
       "          1.2209e-02,  1.6546e-02, -7.7631e-03,  3.3571e-03, -3.7172e-02,\n",
       "         -1.2991e-02, -8.7428e-03,  4.2511e-02,  4.4929e-02,  5.4965e-06,\n",
       "         -2.2292e-02,  6.2317e-04,  1.2851e-02, -6.3214e-03, -1.5822e-03,\n",
       "         -1.4677e-02, -6.1376e-03],\n",
       "        [-9.2781e-03, -1.7048e-02, -1.5142e-03,  3.3978e-03, -1.2864e-02,\n",
       "          2.4909e-03,  1.2196e-02,  1.5411e-02,  1.6875e-02, -1.0638e-02,\n",
       "          1.6317e-02, -3.4486e-03, -2.7424e-02, -3.7615e-03,  1.8852e-02,\n",
       "         -1.7900e-02, -1.3506e-03, -3.4469e-02,  2.6780e-02, -1.9748e-03,\n",
       "          5.8131e-03,  3.8555e-02],\n",
       "        [-3.0096e-02,  7.7977e-03, -1.9962e-02, -1.2486e-02,  1.5312e-02,\n",
       "         -4.8318e-02, -4.2491e-02,  1.8983e-02, -5.2263e-03,  2.4588e-03,\n",
       "          1.3449e-02,  2.6683e-03,  8.2946e-03, -2.4927e-02,  2.7514e-02,\n",
       "         -1.9941e-02,  4.3234e-02, -5.2654e-03, -7.6941e-03,  7.6261e-03,\n",
       "          2.2551e-03,  1.6553e-02],\n",
       "        [-2.9286e-02,  5.7154e-03, -1.0066e-02,  4.2128e-03, -1.9428e-02,\n",
       "          3.7910e-03, -3.2598e-03,  4.0424e-02, -3.5447e-03, -8.2779e-03,\n",
       "         -1.1132e-02, -1.5056e-02,  1.9578e-02,  1.7577e-02, -5.4827e-03,\n",
       "          1.3019e-02, -5.0167e-02, -1.2425e-02,  1.6131e-03,  9.5193e-03,\n",
       "         -2.5554e-02, -1.5660e-02],\n",
       "        [-2.7495e-03,  1.3777e-02, -1.2774e-02,  1.0529e-02,  1.4686e-02,\n",
       "          3.3945e-02, -1.7344e-02,  3.9392e-03, -2.7168e-02,  3.0671e-03,\n",
       "          1.1852e-02,  1.2027e-02,  1.8689e-02, -1.9752e-03, -1.3486e-02,\n",
       "          3.3723e-02,  2.4010e-02, -1.1659e-02,  5.1275e-03,  4.4916e-02,\n",
       "         -1.6140e-02,  1.6687e-02],\n",
       "        [ 3.2754e-02, -1.7240e-02, -1.7720e-02, -5.3980e-03,  2.3240e-02,\n",
       "          1.0835e-02, -1.9191e-02,  1.1476e-02,  1.2534e-02, -1.9494e-02,\n",
       "         -1.2415e-02, -1.2705e-02, -1.4964e-02, -2.6531e-02,  2.0542e-02,\n",
       "         -9.6107e-03, -2.2062e-03, -1.9268e-02,  1.4579e-02, -2.6514e-03,\n",
       "          2.3767e-02,  2.4694e-02],\n",
       "        [ 7.2632e-03,  1.8126e-02, -3.6851e-03, -9.8728e-03, -1.0671e-02,\n",
       "          1.3551e-03,  1.3894e-02, -9.6854e-03, -1.9157e-02,  1.8070e-02,\n",
       "          4.2509e-02,  1.9522e-02,  1.1630e-02, -1.6692e-02, -3.4167e-02,\n",
       "         -2.2851e-02,  1.5900e-02, -2.9087e-02, -2.7121e-02,  2.7167e-02,\n",
       "         -8.2870e-03, -1.9136e-02],\n",
       "        [-7.0695e-03, -5.2541e-03, -1.8824e-02, -3.1120e-04,  2.1105e-02,\n",
       "          4.7810e-03, -3.7913e-03, -7.7649e-03,  3.5715e-03, -3.4424e-03,\n",
       "         -2.9928e-02, -2.1258e-02, -1.9147e-02,  8.1510e-03, -2.4378e-02,\n",
       "          1.1555e-02, -1.4021e-02,  4.4647e-02, -2.8091e-02,  1.1981e-02,\n",
       "          1.0756e-02,  1.6920e-02],\n",
       "        [-7.4016e-04, -5.9642e-03,  1.6793e-02, -3.7336e-03, -2.4124e-03,\n",
       "         -1.4240e-02, -2.2543e-03, -1.2423e-02, -1.9455e-02, -2.0796e-02,\n",
       "         -1.9590e-03,  2.5047e-02,  1.4077e-03, -2.1779e-03,  3.1337e-02,\n",
       "          3.3399e-02,  2.7841e-02, -4.8476e-03, -1.0048e-02, -3.1657e-02,\n",
       "         -1.5858e-02,  1.3862e-03],\n",
       "        [-2.8422e-02, -1.0575e-02, -4.2805e-02,  5.7819e-03, -5.7534e-02,\n",
       "          1.9929e-02, -2.5581e-02,  1.0514e-02,  2.1494e-02, -1.9021e-02,\n",
       "         -2.1478e-03,  3.0478e-02,  2.5905e-02, -6.3159e-02,  8.2407e-03,\n",
       "         -1.5967e-02, -6.8729e-03, -2.5962e-03, -3.2580e-03, -9.1826e-03,\n",
       "          3.5585e-03, -1.1362e-02],\n",
       "        [ 1.5565e-02, -2.3458e-02, -1.7394e-02, -9.4641e-03, -4.6226e-02,\n",
       "         -1.3790e-02, -5.0625e-03,  3.1654e-03,  1.5480e-02,  1.8950e-03,\n",
       "          2.3248e-02,  2.5128e-02,  8.1591e-03, -1.1024e-02, -4.1017e-02,\n",
       "         -2.2350e-02,  1.0238e-02, -2.6341e-02,  1.7831e-02, -2.1851e-02,\n",
       "         -8.1841e-03, -1.0529e-02],\n",
       "        [ 1.5460e-03, -1.5444e-02,  7.9626e-03,  4.9822e-03, -3.7756e-03,\n",
       "         -1.6661e-02,  9.6643e-03, -9.3190e-03,  1.5862e-02,  3.3782e-02,\n",
       "          1.0715e-02, -7.4556e-03, -1.7428e-02, -1.6423e-02,  2.8062e-02,\n",
       "         -5.3653e-02,  5.3360e-03,  2.9661e-02,  2.0244e-02, -1.8937e-02,\n",
       "         -3.9821e-02,  3.4471e-02],\n",
       "        [-3.1090e-02, -1.0825e-02, -2.1264e-02,  6.6315e-05, -1.7783e-03,\n",
       "          3.1334e-02, -1.0615e-02, -8.2149e-03, -2.0896e-02,  3.4777e-02,\n",
       "         -1.9822e-02, -1.6495e-02,  1.1666e-02, -1.8698e-02, -1.1131e-02,\n",
       "          2.1465e-02,  5.8669e-03, -1.8627e-02, -2.6638e-02, -1.7809e-02,\n",
       "          1.6031e-02,  4.7996e-03],\n",
       "        [-1.6981e-02, -5.4011e-03,  2.8813e-02,  1.5610e-02, -3.0246e-04,\n",
       "          9.8896e-03,  6.3350e-03, -1.8965e-02,  3.2081e-02,  1.9809e-02,\n",
       "          1.8913e-02, -3.4912e-02, -1.6116e-02,  2.3776e-02,  1.0551e-02,\n",
       "         -2.7345e-02, -2.5542e-02,  1.9843e-02, -1.6065e-02,  2.3030e-02,\n",
       "         -1.1176e-02,  6.1624e-03],\n",
       "        [-1.7045e-02, -5.2281e-03,  1.8687e-02, -3.3390e-03, -1.8729e-02,\n",
       "         -2.9400e-03,  3.2990e-03, -1.1342e-02,  4.5101e-03,  2.2388e-02,\n",
       "          1.5319e-02, -2.3276e-03, -4.1398e-03,  4.3970e-02, -1.5151e-02,\n",
       "          1.4957e-02,  1.0960e-02,  4.9491e-03, -2.6808e-02,  8.8139e-03,\n",
       "          2.1290e-03,  1.3001e-02]], requires_grad=True)"
      ]
     },
     "execution_count": 13,
     "metadata": {},
     "output_type": "execute_result"
    }
   ],
   "source": [
    "emb.res.weight"
   ]
  },
  {
   "cell_type": "code",
   "execution_count": 14,
   "metadata": {},
   "outputs": [],
   "source": [
    "def dist(x,y):\n",
    "    \"\"\"distance between two feature vectors (1d torch tensors) after embedding\"\"\"\n",
    "    return torch.sqrt(sqdist(emb(x),emb(y))).item()"
   ]
  },
  {
   "cell_type": "code",
   "execution_count": 15,
   "metadata": {},
   "outputs": [
    {
     "name": "stdout",
     "output_type": "stream",
     "text": [
      "Loading Epitran with language code ind-Latn... success!\n",
      "6.927553176879883 0.9880602955818176\n"
     ]
    },
    {
     "data": {
      "image/png": "[encoded data removed]",
      "text/plain": [
       "<Figure size 432x288 with 1 Axes>"
      ]
     },
     "metadata": {
      "needs_background": "light"
     },
     "output_type": "display_data"
    }
   ],
   "source": [
    "from wordgen import *\n",
    "wg = WordgenLearned(3,\"ind-Latn\")\n",
    "\n",
    "ipa_chars = wg.load_ipa_chars('eng-Latn')\n",
    "\n",
    "dists = []\n",
    "for c1 in ipa_chars:\n",
    "    for c2 in ipa_chars:\n",
    "        s1,s2 = to_panphon_fts(c1),to_panphon_fts(c2)\n",
    "        assert(len(s1)==1)\n",
    "        assert(len(s2)==1)\n",
    "        s1,s2 = s1[0],s2[0]\n",
    "        if c1 != c2 : dists.append(dist(s1,s2))\n",
    "max_dist,min_dist = max(dists),min(dists)\n",
    "print(max_dist,min_dist)\n",
    "plt.hist(dists)\n",
    "plt.show()"
   ]
  },
  {
   "cell_type": "code",
   "execution_count": 25,
   "metadata": {},
   "outputs": [],
   "source": [
    "ipa_chars = list(wg.load_ipa_chars('ind-Latn')) # now this is an ordered list, kind of serving as an enumeration\n",
    "num_chars = len(ipa_chars)\n",
    "projection = [n for n in range(num_chars)] # we start with identity mapping and will gradually identify things\n",
    "# think of projection as mapping from indices representing ipa_chars to equivalence classes\n",
    "# the number of equivalence classes is len(set(projection))\n",
    "M = 25\n",
    "step_size = (max_dist-min_dist)/float((len(ipa_chars)-M)*500)\n",
    "spread = step_size/2.\n",
    "for r0 in np.arange(min_dist,max_dist,step_size):\n",
    "    r = np.random.normal(r0,spread)\n",
    "    ipa_char_index = np.random.randint(num_chars)\n",
    "    s0 = to_panphon_fts(ipa_chars[ipa_char_index])\n",
    "    assert(len(s0)==1)\n",
    "    s0 = s0[0]\n",
    "    for n in range(num_chars):\n",
    "        s = to_panphon_fts(ipa_chars[n])\n",
    "        assert(len(s)==1)\n",
    "        s = s[0]\n",
    "        if dist(s,s0)<r:\n",
    "            projection[n]=projection[ipa_char_index]\n",
    "    if len(set(projection))<=M: break"
   ]
  },
  {
   "cell_type": "code",
   "execution_count": 26,
   "metadata": {
    "scrolled": false
   },
   "outputs": [
    {
     "name": "stdout",
     "output_type": "stream",
     "text": [
      "['i']\n",
      "['m']\n",
      "['ɲ']\n",
      "['d']\n",
      "['o']\n",
      "['ɕ', 'd͡ʑ']\n",
      "['x']\n",
      "['ə']\n",
      "['t͡ɕ']\n",
      "['k']\n",
      "['ɡ']\n",
      "['ŋ']\n",
      "['f', 'b', 'p']\n",
      "['t']\n",
      "['r']\n",
      "['l']\n",
      "['w']\n",
      "['z', 's']\n",
      "['n']\n",
      "['h']\n",
      "['ʔ']\n",
      "['j']\n",
      "['a']\n",
      "['u']\n"
     ]
    }
   ],
   "source": [
    "for p in set(projection):\n",
    "    print([ipa_chars[n] for n in range(num_chars) if projection[n]==p])"
   ]
  },
  {
   "cell_type": "markdown",
   "metadata": {},
   "source": [
    "Next: It makes sense that the embedding is cramming together any potential allophones to be really close together, becuase it makes sense to do that and to make up for it by just pushing things more far apart in general. Hmm what do...\n",
    "\n",
    "Basically the issue was that attraction was stronger than repulsion. Strengthening repulsion a bit helped to remedy the problem. The histogram of distances has a spike at small distances, which we could visibly see moving to the right.\n",
    "\n",
    "Next: Run a search, bascially, over different values of that hyperparameter that governs attractions vs repulsion. For each value, show the histogram of distances. Choose the histogram that looks the most \"balanced\" and try that."
   ]
  },
  {
   "cell_type": "code",
   "execution_count": 18,
   "metadata": {
    "scrolled": true
   },
   "outputs": [
    {
     "name": "stdout",
     "output_type": "stream",
     "text": [
      "1270 languages processed. Avg cost: 71.13445281982422                 \n",
      "alpha = 0.001\n",
      "8.635945320129395 0.846365213394165\n"
     ]
    },
    {
     "data": {
      "image/png": "[encoded data removed]",
      "text/plain": [
       "<Figure size 432x288 with 1 Axes>"
      ]
     },
     "metadata": {
      "needs_background": "light"
     },
     "output_type": "display_data"
    },
    {
     "name": "stdout",
     "output_type": "stream",
     "text": [
      "---\n",
      "1270 languages processed. Avg cost: -279.8268981933594                \n",
      "alpha = 0.005\n",
      "17.025606155395508 1.0021930932998657\n"
     ]
    },
    {
     "data": {
      "image/png": "[encoded data removed]",
      "text/plain": [
       "<Figure size 432x288 with 1 Axes>"
      ]
     },
     "metadata": {
      "needs_background": "light"
     },
     "output_type": "display_data"
    },
    {
     "name": "stdout",
     "output_type": "stream",
     "text": [
      "---\n",
      "1270 languages processed. Avg cost: -1446.2766693115234               \n",
      "alpha = 0.01\n",
      "23.349727630615234 1.1824417114257812\n"
     ]
    },
    {
     "data": {
      "image/png": "[encoded data removed]",
      "text/plain": [
       "<Figure size 432x288 with 1 Axes>"
      ]
     },
     "metadata": {
      "needs_background": "light"
     },
     "output_type": "display_data"
    },
    {
     "name": "stdout",
     "output_type": "stream",
     "text": [
      "---\n",
      "1270 languages processed. Avg cost: -6594.5244140625                  \n",
      "alpha = 0.05\n",
      "24.541080474853516 1.2900261878967285\n"
     ]
    },
    {
     "data": {
      "image/png": "[encoded data removed]",
      "text/plain": [
       "<Figure size 432x288 with 1 Axes>"
      ]
     },
     "metadata": {
      "needs_background": "light"
     },
     "output_type": "display_data"
    },
    {
     "name": "stdout",
     "output_type": "stream",
     "text": [
      "---\n",
      "1270 languages processed. Avg cost: -15995.418798828125               \n",
      "alpha = 0.1\n",
      "24.875835418701172 1.2732070684432983\n"
     ]
    },
    {
     "data": {
      "image/png": "[encoded data removed]",
      "text/plain": [
       "<Figure size 432x288 with 1 Axes>"
      ]
     },
     "metadata": {
      "needs_background": "light"
     },
     "output_type": "display_data"
    },
    {
     "name": "stdout",
     "output_type": "stream",
     "text": [
      "---\n",
      "1270 languages processed. Avg cost: -78073.686328125                  \n",
      "alpha = 0.5\n",
      "25.04313850402832 1.2911219596862793\n"
     ]
    },
    {
     "data": {
      "image/png": "[encoded data removed]",
      "text/plain": [
       "<Figure size 432x288 with 1 Axes>"
      ]
     },
     "metadata": {
      "needs_background": "light"
     },
     "output_type": "display_data"
    },
    {
     "name": "stdout",
     "output_type": "stream",
     "text": [
      "---\n",
      "1270 languages processed. Avg cost: -208252.8828125                  \n",
      "alpha = 1\n",
      "25.915119171142578 1.3324223756790161\n"
     ]
    },
    {
     "data": {
      "image/png": "[encoded data removed]",
      "text/plain": [
       "<Figure size 432x288 with 1 Axes>"
      ]
     },
     "metadata": {
      "needs_background": "light"
     },
     "output_type": "display_data"
    },
    {
     "name": "stdout",
     "output_type": "stream",
     "text": [
      "---\n"
     ]
    }
   ],
   "source": [
    "for alpha in [0.001,0.005,0.01,0.05,0.1,0.5,1]:\n",
    "    \n",
    "    emb = EmbedPhones(num_features)\n",
    "    lr = 0.0002\n",
    "    optimizer = optim.Adam(emb.parameters(),lr=lr,weight_decay=1.)\n",
    "    \n",
    "    epochs = 2\n",
    "    costs = []\n",
    "    for e in range(epochs):\n",
    "        for step_num,allophone_data in enumerate(allophone_data_by_language_shuffled()):\n",
    "\n",
    "            allophone_dists   = 0.\n",
    "            nallophone_dists  = 0. \n",
    "\n",
    "            optimizer.zero_grad()\n",
    "\n",
    "            for allophone_list in allophone_data:\n",
    "                for i,j in distinct_pairs(len(allophone_list)):\n",
    "                    allophone_dists += sqdist(emb(allophone_list[i]),emb(allophone_list[j]))\n",
    "            for i,j in distinct_pairs(len(allophone_data)):\n",
    "                for x in allophone_data[i]:\n",
    "                    for y in allophone_data[j]:\n",
    "                        nallophone_dists += sqdist(emb(x),emb(y))\n",
    "\n",
    "            cost = allophone_dists - alpha * nallophone_dists\n",
    "            cost.backward()\n",
    "            costs.append(cost.item())\n",
    "            if step_num%10==0:\n",
    "                sys.stdout.write(str(step_num)+\" languages processed. Avg cost: \"+str(np.mean(costs))+\"               \\r\")\n",
    "                sys.stdout.flush()\n",
    "                costs = []\n",
    "            optimizer.step()\n",
    "\n",
    "\n",
    "    ipa_chars = wg.load_ipa_chars('eng-Latn')\n",
    "\n",
    "    dists = []\n",
    "    for c1 in ipa_chars:\n",
    "        for c2 in ipa_chars:\n",
    "            s1,s2 = to_panphon_fts(c1),to_panphon_fts(c2)\n",
    "            assert(len(s1)==1)\n",
    "            assert(len(s2)==1)\n",
    "            s1,s2 = s1[0],s2[0]\n",
    "            if c1 != c2 : dists.append(dist(s1,s2))\n",
    "    max_dist,min_dist = max(dists),min(dists)\n",
    "    print(\"\\nalpha =\",alpha)\n",
    "    print(max_dist,min_dist)\n",
    "    plt.hist(dists)\n",
    "    plt.show()\n",
    "    print(\"---\")"
   ]
  },
  {
   "cell_type": "code",
   "execution_count": null,
   "metadata": {},
   "outputs": [],
   "source": [
    "emb = EmbedPhones(num_features)\n",
    "lr = 0.0002\n",
    "alpha = 0.05\n",
    "lambda_ = 1.\n",
    "optimizer = optim.Adam(emb.parameters(),lr=lr,weight_decay=lambda_)\n",
    "\n",
    "epochs = 1\n",
    "costs = []\n",
    "costs_plot = []\n",
    "for e in range(epochs):\n",
    "    for step_num,allophone_data in enumerate(allophone_data_by_language_phoible_shuffled()):\n",
    "\n",
    "        allophone_dists   = 0.\n",
    "        nallophone_dists  = 0. \n",
    "\n",
    "        optimizer.zero_grad()\n",
    "\n",
    "        for allophone_list in allophone_data:\n",
    "            for i,j in distinct_pairs(len(allophone_list)):\n",
    "                allophone_dists += sqdist(emb(allophone_list[i]),emb(allophone_list[j]))\n",
    "        for i,j in distinct_pairs(len(allophone_data)):\n",
    "            for x in allophone_data[i]:\n",
    "                for y in allophone_data[j]:\n",
    "                    nallophone_dists += sqdist(emb(x),emb(y))\n",
    "\n",
    "        cost = allophone_dists - alpha * nallophone_dists\n",
    "        cost.backward()\n",
    "        costs.append(cost.item())\n",
    "        if step_num%10==0:\n",
    "            costs_plot.append(np.mean(costs))\n",
    "            sys.stdout.write(\"Epoch \"+str(e)+\", \"+str(step_num)+\" languages processed. Avg cost: \"+str(np.mean(costs))+\"               \\r\")\n",
    "            sys.stdout.flush()\n",
    "            costs = []\n",
    "        optimizer.step()"
   ]
  },
  {
   "cell_type": "code",
   "execution_count": 163,
   "metadata": {
    "scrolled": false
   },
   "outputs": [
    {
     "name": "stdout",
     "output_type": "stream",
     "text": [
      "\n",
      "alpha = 0.05\n"
     ]
    },
    {
     "data": {
      "image/png": "[encoded data removed]",
      "text/plain": [
       "<Figure size 432x288 with 1 Axes>"
      ]
     },
     "metadata": {
      "needs_background": "light"
     },
     "output_type": "display_data"
    },
    {
     "name": "stdout",
     "output_type": "stream",
     "text": [
      "24.721477508544922 2.3966169357299805\n"
     ]
    },
    {
     "data": {
      "image/png": "[encoded data removed]",
      "text/plain": [
       "<Figure size 432x288 with 1 Axes>"
      ]
     },
     "metadata": {
      "needs_background": "light"
     },
     "output_type": "display_data"
    },
    {
     "name": "stdout",
     "output_type": "stream",
     "text": [
      "---\n"
     ]
    }
   ],
   "source": [
    "ipa_chars = wg.load_ipa_chars('eng-Latn')\n",
    "\n",
    "dists = []\n",
    "for c1 in ipa_chars:\n",
    "    for c2 in ipa_chars:\n",
    "        s1,s2 = to_phoible_fts(c1),to_phoible_fts(c2)\n",
    "        assert(len(s1)==1)\n",
    "        assert(len(s2)==1)\n",
    "        s1,s2 = s1[0],s2[0]\n",
    "        if c1 != c2 : dists.append(dist(s1,s2))\n",
    "max_dist,min_dist = max(dists),min(dists)\n",
    "print(\"\\nalpha =\",alpha)\n",
    "plt.plot(costs_plot)\n",
    "plt.show()\n",
    "print(max_dist,min_dist)\n",
    "plt.hist(dists)\n",
    "plt.show()\n",
    "print(\"---\")"
   ]
  },
  {
   "cell_type": "code",
   "execution_count": 178,
   "metadata": {},
   "outputs": [
    {
     "name": "stdout",
     "output_type": "stream",
     "text": [
      "107 ['t͡ʃː', 'e', 'i̯', 'ɲ', 'kː', 'd', 'd͡ʒː', 'ɖ', 'b', 'hː', 'ɥ', 'ʒ', 'd̪', 'ɽ', 'ᶑ', 'kʼ', 'ɾ', 'ɕ', 'ʉ', 'ə', 'ɭ', 'ɕː', 'rː', 'ɔ', 't͡ʃʼ', 'ŋ', 'tʼː', 'ɲː', 'p', 'sː', 'zː', 'ʈʰ', 't͡ʃʼː', 't', 'l', 'ɡː', 'bː', 'ʌ', 'pʼː', 'q', 's', 'aː', 'h', 'tː', 'ɑ', 'ʈ', 'ʔ', 'j', 'a', 'ɪ', 'θ', 'u', 'i', 'm', 'd͡ʒ', 'o', 'kʼː', 'ʎ', 'iː', 'f', 'vː', 't͡ʃʰ', 'oː', 'jː', 'uː', 'ð', 'n̩', 'ʃ', 'x', 'ɳ', 'ʊ', 'pʼ', 'mː', 't͡ɕ', 'ʃː', 'k', 'v', 'nː', 't͡s', 'ɡ', 'pʰ', 'ɘ', 'tʼ', 'fː', 't̪', 'ʁ', 'pː', 'ɹ̩', 'r', 'w', 'æ', 't͡ʃ', 'ɹ', 'lː', 't̪ʰ', 'ɦ', 'z', 'm̩', 'n', 'dː', 'ʋ', 'ɣ', 'd͡ʑ', 'wː', 'kʰ', 'ɛ', 'eː']\n"
     ]
    }
   ],
   "source": [
    "ipa_charsets = ['eng-Latn','ind-Latn','ita-Latn','kaz-Cyrl','orm-Latn','pan-Guru']\n",
    "ipa_chars = set()\n",
    "for ipa_charset in ipa_charsets:\n",
    "    ipa_chars = ipa_chars.union(wg.load_ipa_chars(ipa_charset))\n",
    "ipa_chars.remove('ː')\n",
    "ipa_chars.remove('̃')\n",
    "ipa_chars = list(ipa_chars)\n",
    "num_chars = len(ipa_chars)\n",
    "print(num_chars,ipa_chars)"
   ]
  },
  {
   "cell_type": "code",
   "execution_count": 181,
   "metadata": {
    "scrolled": false
   },
   "outputs": [
    {
     "name": "stdout",
     "output_type": "stream",
     "text": [
      "['t͡ʃʰ', 't͡ʃ']\n",
      "['i̯']\n",
      "['ɥ']\n",
      "['ɽ', 'ɾ']\n",
      "['kʼ', 'kʼː']\n",
      "['ɕ', 'ɕː']\n",
      "['rː', 'r']\n",
      "['t͡ʃʼ', 't͡ʃʼː']\n",
      "['ŋ']\n",
      "['ɲ', 'ɲː']\n",
      "['sː', 'zː', 's', 'z']\n",
      "['ɭ', 'l', 'lː']\n",
      "['b', 'p', 'bː', 'pʰ', 'pː']\n",
      "['pʼː', 'pʼ']\n",
      "['q']\n",
      "['hː']\n",
      "['d', 'ɖ', 'd̪', 'ᶑ', 'ʈʰ', 't', 'tː', 'ʈ', 't̪', 't̪ʰ', 'dː']\n",
      "['ʔ']\n",
      "['j', 'jː']\n",
      "['θ', 'ð']\n",
      "['t͡ʃː', 'd͡ʒː']\n",
      "['ʎ']\n",
      "['f', 'vː', 'v', 'fː']\n",
      "['ʉ', 'ɔ', 'u', 'o', 'oː', 'uː', 'ʊ']\n",
      "['n̩']\n",
      "['ʒ', 'd͡ʒ', 'ʃ', 'ʃː']\n",
      "['x', 'ɣ']\n",
      "['m', 'mː']\n",
      "['t͡ɕ', 'd͡ʑ']\n",
      "['kː', 'ɡː', 'k', 'ɡ', 'kʰ']\n",
      "['t͡s']\n",
      "['tʼː', 'tʼ']\n",
      "['ʁ']\n",
      "['e', 'ə', 'ʌ', 'aː', 'ɑ', 'a', 'ɪ', 'i', 'iː', 'ɘ', 'æ', 'ɛ', 'eː']\n",
      "['ɹ̩', 'ɹ']\n",
      "['h', 'ɦ']\n",
      "['m̩']\n",
      "['ɳ', 'nː', 'n']\n",
      "['ʋ']\n",
      "['w', 'wː']\n"
     ]
    }
   ],
   "source": [
    "projection = [n for n in range(num_chars)] # we start with identity mapping and will gradually identify things\n",
    "# think of projection as mapping from indices representing ipa_chars to equivalence classes\n",
    "# the number of equivalence classes is len(set(projection))\n",
    "M = 40\n",
    "step_size = (max_dist-min_dist)/float((len(ipa_chars)-M)*500)\n",
    "spread = step_size/2.\n",
    "for r0 in np.arange(min_dist,max_dist,step_size):\n",
    "    r = np.random.normal(r0,spread)\n",
    "    ipa_char_index = np.random.randint(num_chars)\n",
    "    s0 = to_phoible_fts(ipa_chars[ipa_char_index])\n",
    "    assert(len(s0)==1)\n",
    "    s0 = s0[0]\n",
    "    for n in range(num_chars):\n",
    "        s = to_phoible_fts(ipa_chars[n])\n",
    "        assert(len(s)==1)\n",
    "        s = s[0]\n",
    "        if dist(s,s0)<r:\n",
    "            projection[n]=projection[ipa_char_index]\n",
    "    if len(set(projection))<=M: break\n",
    "        \n",
    "for p in set(projection):\n",
    "    print([ipa_chars[n] for n in range(num_chars) if projection[n]==p])"
   ]
  }
 ],
 "metadata": {
  "kernelspec": {
   "display_name": "Python 3",
   "language": "python",
   "name": "python3"
  },
  "language_info": {
   "codemirror_mode": {
    "name": "ipython",
    "version": 3
   },
   "file_extension": ".py",
   "mimetype": "text/x-python",
   "name": "python",
   "nbconvert_exporter": "python",
   "pygments_lexer": "ipython3",
   "version": "3.6.8"
  }
 },
 "nbformat": 4,
 "nbformat_minor": 2
}
