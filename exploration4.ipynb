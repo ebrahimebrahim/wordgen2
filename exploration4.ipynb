{
 "cells": [
  {
   "cell_type": "markdown",
   "metadata": {},
   "source": [
    "exploration3 had confusingly interleaved two separate appraoches. Here we focus on just one, cleaned up quite a bit.\n",
    "\n",
    "We are using phoible to map ipa segments to feature vectors, and then attempting to learn a linear operator on feature space that makes the closeness of feature vectors correspond to the tendency for those segments to be allophones."
   ]
  },
  {
   "cell_type": "code",
   "execution_count": 4,
   "metadata": {},
   "outputs": [],
   "source": [
    "%matplotlib inline\n",
    "\n",
    "import numpy as np\n",
    "import torch\n",
    "import matplotlib.pyplot as plt"
   ]
  },
  {
   "cell_type": "code",
   "execution_count": 5,
   "metadata": {},
   "outputs": [],
   "source": [
    "import torch.nn as nn\n",
    "\n",
    "class EmbedPhones(nn.Module):\n",
    "\n",
    "    def __init__(self, num_features):\n",
    "        super(EmbedPhones, self).__init__()\n",
    "        \n",
    "        self.res = nn.Linear(num_features,num_features,bias=False)\n",
    "#         identity=torch.from_numpy(np.identity(num_features,dtype=np.dtype('float32')))\n",
    "        with torch.no_grad():\n",
    "            self.res.weight.normal_(0,0.02)\n",
    "#             self.embed.weight += identity\n",
    "        \n",
    "    def forward(self, x):\n",
    "        \n",
    "        return x+self.res(x) # res represents the difference between the embedding map and the identity map\n"
   ]
  },
  {
   "cell_type": "code",
   "execution_count": 25,
   "metadata": {},
   "outputs": [
    {
     "name": "stdout",
     "output_type": "stream",
     "text": [
      "Loading Epitran with language code ind-Latn... success!\n"
     ]
    }
   ],
   "source": [
    "import os,sys\n",
    "def add_path_to_local_module(module_name):\n",
    "    module_path = os.path.abspath(os.path.join(module_name))\n",
    "    if module_path not in sys.path:\n",
    "        sys.path.append(module_path)\n",
    "add_path_to_local_module(\"epitran\")\n",
    "add_path_to_local_module(\"panphon\")\n",
    "\n",
    "import panphon.featuretable\n",
    "ft = panphon.featuretable.FeatureTable()\n",
    "\n",
    "from wordgen import *\n",
    "wg = WordgenLearned(3,\"ind-Latn\")"
   ]
  },
  {
   "cell_type": "code",
   "execution_count": 7,
   "metadata": {},
   "outputs": [],
   "source": [
    "class SuppressedMessenger(object):\n",
    "    \"\"\" A class to output messages with output being supressed at a certain point.\"\"\"\n",
    "    def __init__(self,name,max_messages):\n",
    "        self.name = name\n",
    "        self.num_printed = 0\n",
    "        self.max_messages = max_messages\n",
    "        self.stopped_printing = False if max_messages > 0 else True\n",
    "\n",
    "    def print(self,msg):\n",
    "        if self.num_printed < self.max_messages:\n",
    "            print(msg)\n",
    "            self.num_printed += 1\n",
    "        elif not self.stopped_printing:\n",
    "            print(\"[Further output regarding \"+self.name+\" will be suppressed]\")\n",
    "            self.stopped_printing = True"
   ]
  },
  {
   "cell_type": "code",
   "execution_count": 8,
   "metadata": {},
   "outputs": [
    {
     "name": "stdout",
     "output_type": "stream",
     "text": [
      "Building mapping from phoible phonemes to feature space...\n",
      "Skipping phoneme ɹ̪̹̩: weird feature label\n",
      "Skipping phoneme ɻ̹̩: weird feature label\n",
      "Skipping phoneme ɹ̪̹̩: weird feature label\n"
     ]
    }
   ],
   "source": [
    "import csv\n",
    "\n",
    "feat_vals = {'+':1,'-':-1,'0':0}\n",
    "\n",
    "to_phoible_feats_dict = {}\n",
    "\n",
    "f = open('phoible.csv')\n",
    "reader = csv.reader(f)\n",
    "head = next(reader)\n",
    "phoneme_index = head.index('Phoneme')\n",
    "langkey_index = head.index('ISO6393')\n",
    "first_feat_index = head.index('tone')\n",
    "last_feat_index = head.index('click')\n",
    "skipped_msg = SuppressedMessenger(\"bad feature labels\", 10)\n",
    "contradiction_msg = SuppressedMessenger(\"phoible contradictions\", 30)\n",
    "print(\"Building mapping from phoible phonemes to feature space...\")\n",
    "for i,row in enumerate(reader):\n",
    "    phoneme = row[phoneme_index]\n",
    "    raw_feats = row[first_feat_index:last_feat_index+1]\n",
    "#     if any(len(feat)>1 for feat in raw_feats):\n",
    "#         skipped_msg.print(\"Skipping phoneme \"+phoneme+\": multiple feature labels\")\n",
    "    #Instead lets add together multiple feature labels\n",
    "    \n",
    "    try:\n",
    "        feats = np.array([sum(feat_vals[v] for v in val.split(',')) for val in raw_feats],dtype=np.dtype('float32'))\n",
    "    except KeyError:\n",
    "        skipped_msg.print(\"Skipping phoneme \"+phoneme+\": weird feature label\")\n",
    "    if phoneme in to_phoible_feats_dict.keys():\n",
    "        if not np.array_equal(feats,to_phoible_feats_dict[phoneme]):\n",
    "            contradiction_msg.print(\"Phoible contradiction for phoneme \"+phoneme+\"; language \"+row[langkey_index]+\" conflicts w/ prev entry\")\n",
    "    else:\n",
    "        to_phoible_feats_dict[phoneme] = feats\n",
    "f.close()"
   ]
  },
  {
   "cell_type": "code",
   "execution_count": 9,
   "metadata": {},
   "outputs": [
    {
     "data": {
      "text/plain": [
       "(3183, 37)"
      ]
     },
     "execution_count": 9,
     "metadata": {},
     "output_type": "execute_result"
    }
   ],
   "source": [
    "num_features = len(to_phoible_feats_dict['a'])\n",
    "len(to_phoible_feats_dict),num_features"
   ]
  },
  {
   "cell_type": "code",
   "execution_count": 10,
   "metadata": {},
   "outputs": [],
   "source": [
    "# will need to convert some ipa segs produced by epitran into the representation in phoible\n",
    "epitran_to_phoible_replacements = {\n",
    "    'd͡ʒ':'d̠ʒ',\n",
    "    't͡ʃ':'t̠ʃ',\n",
    "    't͡ɕ':'tɕ',\n",
    "    't͡s':'ts',\n",
    "    'd͡ʑ':'dʑ',\n",
    "}\n",
    "\n",
    "def epitran_to_phoible(epitran_ipa):\n",
    "    phoible_ipa = epitran_ipa\n",
    "    for a,b in epitran_to_phoible_replacements.items():\n",
    "        phoible_ipa = phoible_ipa.replace(a,b)\n",
    "    return phoible_ipa"
   ]
  },
  {
   "cell_type": "code",
   "execution_count": 15,
   "metadata": {},
   "outputs": [],
   "source": [
    "class NoPhoibleFeatures(Exception):\n",
    "    pass\n",
    "class NoAvailableData(Exception):\n",
    "    pass\n",
    "\n",
    "def to_phoible_fts(ipa_symbols):\n",
    "    \"\"\" Convert a string of ipa symbols to a torch matrix whose rows are features.\n",
    "        Do not include duplicates when panphon identifies symbols in terms of features. \"\"\"\n",
    "    if ipa_symbols == \"NA\" :  raise NoAvailableData(\"The string you gave indicates that there's no allophone data\")\n",
    "    fts=[]\n",
    "    for ft in ipa_symbols.split():\n",
    "        ft = epitran_to_phoible(ft)\n",
    "        try:\n",
    "            fts.append(to_phoible_feats_dict[ft])\n",
    "        except KeyError:\n",
    "            continue\n",
    "    if not fts:\n",
    "        raise NoPhoibleFeatures(\"All the phonemes in '\"+ipa_symbols+\"' are giving trouble\")\n",
    "    fts = np.array(fts) \n",
    "    fts = np.unique(fts,axis=0) # do not allow duplicates. TODO: actually you should raise error if you see duplicates; it's not supposed to happen with phoible\n",
    "    fts = fts.astype(np.dtype('float32')) # this is not needed i think, dtype was already set\n",
    "    return torch.from_numpy(fts)"
   ]
  },
  {
   "cell_type": "code",
   "execution_count": 16,
   "metadata": {},
   "outputs": [],
   "source": [
    "import csv\n",
    "\n",
    "def allophone_data_by_language(num_lists=np.inf):\n",
    "    f = open('phoible.csv')\n",
    "    reader = csv.reader(f)\n",
    "    head = next(reader)\n",
    "    allophones_index = head.index('Allophones')\n",
    "    langkey_index = head.index('ISO6393')\n",
    "    last_langkey = \"not a lang key\"\n",
    "    num_yielded = 0\n",
    "    for i,row in enumerate(reader):\n",
    "        if row[langkey_index] != last_langkey:\n",
    "#             print(\"About to yield data for language\",last_langkey)\n",
    "            last_langkey = row[langkey_index]\n",
    "            if i!=0 and allophone_data:\n",
    "                yield allophone_data\n",
    "                num_yielded += 1\n",
    "            if num_yielded >= num_lists: break\n",
    "            allophone_data = []\n",
    "        try:\n",
    "            allophone_list = to_phoible_fts(row[allophones_index])\n",
    "        except NoAvailableData: # We will just skip the entire list of allophones in this case\n",
    "            continue\n",
    "        allophone_data.append(allophone_list)\n",
    "    f.close()"
   ]
  },
  {
   "cell_type": "code",
   "execution_count": 17,
   "metadata": {},
   "outputs": [],
   "source": [
    "allophone_data_by_language_list = list(allophone_data_by_language())"
   ]
  },
  {
   "cell_type": "code",
   "execution_count": 18,
   "metadata": {},
   "outputs": [],
   "source": [
    "import random\n",
    "\n",
    "def allophone_data_by_language_shuffled():\n",
    "    indices = list(range(len(allophone_data_by_language_list)))\n",
    "    random.shuffle(indices)\n",
    "    for index in indices:\n",
    "        yield allophone_data_by_language_list[index]"
   ]
  },
  {
   "cell_type": "code",
   "execution_count": 28,
   "metadata": {},
   "outputs": [],
   "source": [
    "def distinct_pairs(N):\n",
    "    \"\"\"Generate pairs of integers i<j such that 0 <= i < j < N\"\"\"\n",
    "    for i in range(N):\n",
    "        for j in range(i+1,N):\n",
    "            yield i,j\n",
    "            \n",
    "def sqdist(x,y):\n",
    "    \"\"\"Return squared distance between two 1D torch tensors\"\"\"\n",
    "    return ((x-y)**2).sum()\n",
    "\n",
    "def dist(x,y):\n",
    "    \"\"\"distance between two feature vectors (1d torch tensors) after embedding\"\"\"\n",
    "    return torch.sqrt(sqdist(emb(x),emb(y))).item()"
   ]
  },
  {
   "cell_type": "code",
   "execution_count": 20,
   "metadata": {},
   "outputs": [],
   "source": [
    "import torch.optim as optim"
   ]
  },
  {
   "cell_type": "code",
   "execution_count": 39,
   "metadata": {},
   "outputs": [
    {
     "name": "stdout",
     "output_type": "stream",
     "text": [
      "Epoch 9, 1270 languages processed. Avg cost: -614.8590118408204                \r"
     ]
    }
   ],
   "source": [
    "emb = EmbedPhones(num_features)\n",
    "lr = 0.00001\n",
    "alpha = 0.01\n",
    "lambda_ = 1.\n",
    "epochs = 10\n",
    "optimizer = optim.Adam(emb.parameters(),lr=lr,weight_decay=lambda_)\n",
    "\n",
    "costs = []\n",
    "costs_plot = []\n",
    "for e in range(epochs):\n",
    "    for step_num,allophone_data in enumerate(allophone_data_by_language_shuffled()):\n",
    "\n",
    "        allophone_dists   = 0.\n",
    "        nallophone_dists  = 0. \n",
    "\n",
    "        optimizer.zero_grad()\n",
    "\n",
    "        for allophone_list in allophone_data:\n",
    "            for i,j in distinct_pairs(len(allophone_list)):\n",
    "                allophone_dists += sqdist(emb(allophone_list[i]),emb(allophone_list[j]))\n",
    "        for i,j in distinct_pairs(len(allophone_data)):\n",
    "            for x in allophone_data[i]:\n",
    "                for y in allophone_data[j]:\n",
    "                    nallophone_dists += sqdist(emb(x),emb(y))\n",
    "\n",
    "        cost = allophone_dists - alpha * nallophone_dists\n",
    "        cost.backward()\n",
    "        costs.append(cost.item())\n",
    "        if step_num%10==0:\n",
    "            costs_plot.append(np.mean(costs))\n",
    "            sys.stdout.write(\"Epoch \"+str(e)+\", \"+str(step_num)+\" languages processed. Avg cost: \"+str(np.mean(costs))+\"               \\r\")\n",
    "            sys.stdout.flush()\n",
    "            costs = []\n",
    "        optimizer.step()"
   ]
  },
  {
   "cell_type": "code",
   "execution_count": 40,
   "metadata": {},
   "outputs": [
    {
     "data": {
      "text/plain": [
       "Parameter containing:\n",
       "tensor([[ 0.0455,  0.0232, -0.0622,  ...,  0.0368,  0.0590, -0.0338],\n",
       "        [ 0.0419,  0.0607, -0.0688,  ...,  0.0085,  0.0204, -0.0255],\n",
       "        [-0.0051,  0.0245,  0.0539,  ..., -0.0022,  0.0034,  0.0392],\n",
       "        ...,\n",
       "        [ 0.0566,  0.0329, -0.0225,  ...,  0.0746, -0.0061,  0.0061],\n",
       "        [ 0.0035,  0.0181, -0.0818,  ...,  0.0216,  0.0135, -0.0423],\n",
       "        [ 0.0416, -0.0016,  0.0767,  ...,  0.0408,  0.0717,  0.0507]],\n",
       "       requires_grad=True)"
      ]
     },
     "execution_count": 40,
     "metadata": {},
     "output_type": "execute_result"
    }
   ],
   "source": [
    "emb.res.weight"
   ]
  },
  {
   "cell_type": "code",
   "execution_count": 41,
   "metadata": {},
   "outputs": [
    {
     "name": "stdout",
     "output_type": "stream",
     "text": [
      "107 ['o', 'pʰ', 'ʃ', 'kʼː', 'tː', 't', 'u', 'd͡ʒː', 'æ', 'tʼ', 'i̯', 'ᶑ', 'ɡ', 'ʈʰ', 'ɛ', 'ɣ', 'ɖ', 'ɹ̩', 'd', 'z', 'n̩', 'ɥ', 't͡s', 'd̪', 'l', 'm', 'd͡ʒ', 'kʼ', 'ʋ', 'θ', 'ɲ', 'kʰ', 'f', 'ɡː', 'iː', 'ʊ', 'fː', 'eː', 'j', 'ʒ', 't͡ʃʼː', 'ɭ', 'lː', 'h', 'ð', 't͡ʃʰ', 'n', 'pʼ', 'ɹ', 'hː', 'pː', 't͡ʃʼ', 'ʌ', 'vː', 'i', 'ʉ', 'ɪ', 'm̩', 'sː', 'kː', 'ɳ', 'uː', 'd͡ʑ', 'ŋ', 't͡ɕ', 'q', 'dː', 'e', 'ɑ', 's', 'k', 'a', 'b', 'pʼː', 'ʃː', 'ɦ', 'ə', 'ɕː', 'zː', 'ʎ', 'ɔ', 'tʼː', 'ɘ', 'wː', 'bː', 't̪', 't̪ʰ', 'ɾ', 'oː', 'p', 'v', 'w', 'nː', 'rː', 'jː', 'mː', 'ɲː', 't͡ʃː', 'ɽ', 'ɕ', 'ʁ', 'x', 'aː', 't͡ʃ', 'ʈ', 'r', 'ʔ']\n"
     ]
    }
   ],
   "source": [
    "ipa_charsets = ['eng-Latn','ind-Latn','ita-Latn','kaz-Cyrl','orm-Latn','pan-Guru']\n",
    "ipa_chars = set()\n",
    "for ipa_charset in ipa_charsets:\n",
    "    ipa_chars = ipa_chars.union(wg.load_ipa_chars(ipa_charset))\n",
    "ipa_chars.remove('ː')\n",
    "ipa_chars.remove('̃')\n",
    "ipa_chars = list(ipa_chars)\n",
    "num_chars = len(ipa_chars)\n",
    "print(num_chars,ipa_chars)"
   ]
  },
  {
   "cell_type": "code",
   "execution_count": 42,
   "metadata": {
    "scrolled": false
   },
   "outputs": [
    {
     "name": "stdout",
     "output_type": "stream",
     "text": [
      "\n",
      "alpha = 0.01\n"
     ]
    },
    {
     "data": {
      "image/png": "[encoded data removed]",
      "text/plain": [
       "<Figure size 432x288 with 1 Axes>"
      ]
     },
     "metadata": {
      "needs_background": "light"
     },
     "output_type": "display_data"
    },
    {
     "name": "stdout",
     "output_type": "stream",
     "text": [
      "14.763212203979492 2.062192440032959\n"
     ]
    },
    {
     "data": {
      "image/png": "[encoded data removed]",
      "text/plain": [
       "<Figure size 432x288 with 1 Axes>"
      ]
     },
     "metadata": {
      "needs_background": "light"
     },
     "output_type": "display_data"
    }
   ],
   "source": [
    "dists = []\n",
    "for c1 in ipa_chars:\n",
    "    for c2 in ipa_chars:\n",
    "        s1,s2 = to_phoible_fts(c1),to_phoible_fts(c2)\n",
    "        assert(len(s1)==1)\n",
    "        assert(len(s2)==1)\n",
    "        s1,s2 = s1[0],s2[0]\n",
    "        if c1 != c2 : dists.append(dist(s1,s2))\n",
    "max_dist,min_dist = max(dists),min(dists)\n",
    "print(\"\\nalpha =\",alpha)\n",
    "plt.plot(costs_plot)\n",
    "plt.show()\n",
    "print(max_dist,min_dist)\n",
    "plt.hist(dists)\n",
    "plt.show()"
   ]
  },
  {
   "cell_type": "code",
   "execution_count": 55,
   "metadata": {},
   "outputs": [
    {
     "name": "stdout",
     "output_type": "stream",
     "text": [
      "['kʼː']\n",
      "['tː', 'ᶑ', 'ɖ', 'd', 'd̪', 'dː', 'ʈ']\n",
      "['ʈʰ']\n",
      "['ɹ̩']\n",
      "['ɥ']\n",
      "['z', 't͡s', 'θ', 'sː', 's']\n",
      "['l', 'ɭ', 'lː', 'ɽ']\n",
      "['kʼ']\n",
      "['ʋ']\n",
      "['ɲ', 'ɲː']\n",
      "['ɡ', 'kʰ', 'ɡː', 'kː', 'k']\n",
      "['j', 'jː']\n",
      "['t͡ʃʰ', 't͡ʃ']\n",
      "['n̩', 'n', 'ɳ', 'nː']\n",
      "['ɹ']\n",
      "['hː']\n",
      "['t͡ʃʼː', 't͡ʃʼ']\n",
      "['f', 'fː', 'vː', 'v']\n",
      "['ð', 'd͡ʑ', 't͡ɕ']\n",
      "['ŋ']\n",
      "['q']\n",
      "['æ', 'i̯', 'ɛ', 'iː', 'eː', 'i', 'ɪ', 'e', 'a', 'ə', 'ɘ']\n",
      "['ʌ', 'ɑ', 'aː']\n",
      "['pʼ', 'pʼː']\n",
      "['ʃ', 'd͡ʒː', 'd͡ʒ', 'ʒ', 'ʃː', 't͡ʃː']\n",
      "['h', 'ɦ']\n",
      "['ɕː', 'ɕ']\n",
      "['zː']\n",
      "['ʎ']\n",
      "['tʼ', 'tʼː']\n",
      "['wː', 'w']\n",
      "['t', 't̪', 't̪ʰ']\n",
      "['o', 'u', 'ʊ', 'ʉ', 'uː', 'ɔ', 'oː']\n",
      "['pʰ', 'pː', 'b', 'bː', 'p']\n",
      "['rː']\n",
      "['m', 'm̩', 'mː']\n",
      "['ɾ']\n",
      "['ɣ', 'ʁ', 'x']\n",
      "['r']\n",
      "['ʔ']\n"
     ]
    }
   ],
   "source": [
    "projection = [n for n in range(num_chars)] # we start with identity mapping and will gradually identify things\n",
    "# think of projection as mapping from indices representing ipa_chars to equivalence classes\n",
    "# the number of equivalence classes is len(set(projection))\n",
    "M = 40\n",
    "step_size = (max_dist-min_dist)/float((len(ipa_chars)-M)*500)\n",
    "spread = (max_dist-min_dist)/20.\n",
    "for r0 in np.arange(min_dist,max_dist,step_size):\n",
    "    r = max(step_size,np.random.normal(r0,spread))\n",
    "    ipa_char_index = np.random.randint(num_chars)\n",
    "    s0 = to_phoible_fts(ipa_chars[ipa_char_index])\n",
    "    assert(len(s0)==1)\n",
    "    s0 = s0[0]\n",
    "    for n in range(num_chars):\n",
    "        s = to_phoible_fts(ipa_chars[n])\n",
    "        assert(len(s)==1)\n",
    "        s = s[0]\n",
    "        if dist(s,s0)<r:\n",
    "            projection[n]=projection[ipa_char_index]\n",
    "    if len(set(projection))<=M: break\n",
    "        \n",
    "for p in set(projection):\n",
    "    print([ipa_chars[n] for n in range(num_chars) if projection[n]==p])"
   ]
  },
  {
   "cell_type": "markdown",
   "metadata": {},
   "source": [
    "Okay let's assume this works and look into the problem of choosing a representative from each equivalence class.\n",
    "\n",
    "Initital idea: Choose a random direction in feature space (post-emb feature space, I think), and always pick the representative that is most in that direction"
   ]
  },
  {
   "cell_type": "code",
   "execution_count": 119,
   "metadata": {},
   "outputs": [],
   "source": [
    "direction = np.array([np.random.normal() for _ in range(num_features)])"
   ]
  },
  {
   "cell_type": "code",
   "execution_count": 120,
   "metadata": {
    "scrolled": false
   },
   "outputs": [
    {
     "name": "stdout",
     "output_type": "stream",
     "text": [
      "kʼː ['kʼː']\n",
      "ɖ ['tː', 'ᶑ', 'ɖ', 'd', 'd̪', 'dː', 'ʈ']\n",
      "ʈʰ ['ʈʰ']\n",
      "ɹ̩ ['ɹ̩']\n",
      "ɥ ['ɥ']\n",
      "t͡s ['z', 't͡s', 'θ', 'sː', 's']\n",
      "ɽ ['l', 'ɭ', 'lː', 'ɽ']\n",
      "kʼ ['kʼ']\n",
      "ʋ ['ʋ']\n",
      "ɲ ['ɲ', 'ɲː']\n",
      "ɡ ['ɡ', 'kʰ', 'ɡː', 'kː', 'k']\n",
      "j ['j', 'jː']\n",
      "t͡ʃ ['t͡ʃʰ', 't͡ʃ']\n",
      "n̩ ['n̩', 'n', 'ɳ', 'nː']\n",
      "ɹ ['ɹ']\n",
      "hː ['hː']\n",
      "t͡ʃʼ ['t͡ʃʼː', 't͡ʃʼ']\n",
      "v ['f', 'fː', 'vː', 'v']\n",
      "ð ['ð', 'd͡ʑ', 't͡ɕ']\n",
      "ŋ ['ŋ']\n",
      "q ['q']\n",
      "a ['æ', 'i̯', 'ɛ', 'iː', 'eː', 'i', 'ɪ', 'e', 'a', 'ə', 'ɘ']\n",
      "aː ['ʌ', 'ɑ', 'aː']\n",
      "pʼ ['pʼ', 'pʼː']\n",
      "d͡ʒ ['ʃ', 'd͡ʒː', 'd͡ʒ', 'ʒ', 'ʃː', 't͡ʃː']\n",
      "ɦ ['h', 'ɦ']\n",
      "ɕ ['ɕː', 'ɕ']\n",
      "zː ['zː']\n",
      "ʎ ['ʎ']\n",
      "tʼ ['tʼ', 'tʼː']\n",
      "w ['wː', 'w']\n",
      "t ['t', 't̪', 't̪ʰ']\n",
      "ʊ ['o', 'u', 'ʊ', 'ʉ', 'uː', 'ɔ', 'oː']\n",
      "b ['pʰ', 'pː', 'b', 'bː', 'p']\n",
      "rː ['rː']\n",
      "m̩ ['m', 'm̩', 'mː']\n",
      "ɾ ['ɾ']\n",
      "ɣ ['ɣ', 'ʁ', 'x']\n",
      "r ['r']\n",
      "ʔ ['ʔ']\n"
     ]
    }
   ],
   "source": [
    "section = {} # Think of section as a map back from the codomain of projection to the domain which picks a rep of each equivalence class\n",
    "for p in set(projection):\n",
    "    equiv_class = [n for n in range(num_chars) if projection[n]==p]\n",
    "    rep = max(equiv_class,key=lambda n : np.dot(to_phoible_fts(ipa_chars[n]).numpy(),direction).item())\n",
    "    for n in equiv_class: section[n] = rep\n",
    "    print(ipa_chars[rep],[ipa_chars[n] for n in equiv_class])"
   ]
  },
  {
   "cell_type": "code",
   "execution_count": 121,
   "metadata": {},
   "outputs": [],
   "source": [
    "wg_eng = load_wg('en10e4.pkl')\n",
    "wg_ind = load_wg('id10e5.pkl')"
   ]
  },
  {
   "cell_type": "code",
   "execution_count": 207,
   "metadata": {},
   "outputs": [
    {
     "name": "stdout",
     "output_type": "stream",
     "text": [
      "t͡ɕ ['t͡ɕ']\n",
      "d͡ʒ ['ʃ', 't͡ʃ', 'd͡ʒ']\n",
      "u ['o', 'u', 'ʊ']\n",
      "i ['e', 'æ', 'ɛ', 'ə', 'i', 'ɪ']\n",
      "ɑ ['ɑ', 'a']\n",
      "ɡ ['k', 'ɡ']\n",
      "s ['s']\n",
      "d ['t', 'd']\n",
      "n̩ ['n̩']\n",
      "l ['l']\n",
      "ɔ ['ɔ']\n",
      "ɲ ['ɲ']\n",
      "v ['f', 'v']\n",
      "ɾ ['ɾ']\n",
      "b ['b', 'p']\n",
      "j ['j']\n",
      "w ['w']\n",
      "h ['h']\n",
      "ʒ ['z', 'd͡ʑ', 'θ', 'ʒ', 'ð']\n",
      "n ['n']\n",
      "ɹ ['ɹ̩', 'ɹ']\n",
      "ɕ ['ɕ']\n",
      "ʌ ['ʌ']\n",
      "x ['x']\n",
      "m ['m', 'm̩']\n",
      "ŋ ['ŋ']\n",
      "r ['r']\n",
      "ʔ ['ʔ']\n"
     ]
    }
   ],
   "source": [
    "# These are the learned wordgen objects to be merged\n",
    "learned_gens = [wg_eng,wg_ind]\n",
    "\n",
    "# First gather all ipa_tokens\n",
    "all_ipa_tokens = set()\n",
    "for gen in learned_gens:\n",
    "    all_ipa_tokens.update(gen.get_ipa_tokens())\n",
    "    \n",
    "# Remove any bad tokens that phoible won't like for the next part. If these are there then they're dumb anyway.\n",
    "# We will also remove the start and end tokens; they will be brought back in later\n",
    "bad_tokens = ['ː','̃','WORD_START','WORD_END']\n",
    "for t in bad_tokens: \n",
    "    if t in all_ipa_tokens: \n",
    "        all_ipa_tokens.remove(t)\n",
    "        \n",
    "# Compute max and min distances tokens have from each other via the feature embedding\n",
    "all_ipa_tokens = list(all_ipa_tokens)\n",
    "num_all_tokens = len(all_ipa_tokens)\n",
    "dists = []\n",
    "for c1 in all_ipa_tokens:\n",
    "    for c2 in all_ipa_tokens:\n",
    "        s1,s2 = to_phoible_fts(c1),to_phoible_fts(c2)\n",
    "        assert(len(s1)==1)\n",
    "        assert(len(s2)==1)\n",
    "        s1,s2 = s1[0],s2[0]\n",
    "        if c1 != c2 : dists.append(dist(s1,s2))\n",
    "max_dist,min_dist = max(dists),min(dists)\n",
    "\n",
    "# Create equivalence classes of phonemes to cut down number of sounds\n",
    "projection = [n for n in range(num_all_tokens)] # we start with identity mapping and will gradually identify things\n",
    "# think of projection as mapping from indices representing ipa_chars to equivalence classes\n",
    "# the number of equivalence classes is len(set(projection))\n",
    "M = int(np.random.normal(35,10)) # choose number of sounds\n",
    "step_size = (max_dist-min_dist)/float((num_all_tokens-M)*500)\n",
    "spread = (max_dist-min_dist)/20.\n",
    "for r0 in np.arange(min_dist,max_dist,step_size):\n",
    "    r = max(step_size,np.random.normal(r0,spread))\n",
    "    ipa_char_index = np.random.randint(num_all_tokens)\n",
    "    s0 = to_phoible_fts(all_ipa_tokens[ipa_char_index])\n",
    "    assert(len(s0)==1)\n",
    "    s0 = s0[0]\n",
    "    for n in range(num_all_tokens):\n",
    "        s = to_phoible_fts(all_ipa_tokens[n])\n",
    "        assert(len(s)==1)\n",
    "        s = s[0]\n",
    "        if dist(s,s0)<r:\n",
    "            projection[n]=projection[ipa_char_index]\n",
    "    if len(set(projection))<=M: break\n",
    "\n",
    "# Choose a representative for each equivalence class to serve as the standard/official pronunciation for the new language\n",
    "direction = np.array([np.random.normal() for _ in range(num_features)])\n",
    "section = {} # Think of section as a map back from the codomain of projection to the domain which picks a rep of each equivalence class\n",
    "for p in set(projection):\n",
    "    equiv_class = [n for n in range(num_all_tokens) if projection[n]==p]\n",
    "    rep = max(equiv_class,key=lambda n : np.dot(to_phoible_fts(all_ipa_tokens[n]).numpy(),direction).item())\n",
    "    for n in equiv_class: section[n] = rep\n",
    "    print(all_ipa_tokens[rep],[all_ipa_tokens[n] for n in equiv_class])"
   ]
  },
  {
   "cell_type": "code",
   "execution_count": 220,
   "metadata": {},
   "outputs": [
    {
     "data": {
      "text/plain": [
       "{'t͡ɕ': ['t͡ɕ'],\n",
       " 'u': ['o', 'u', 'ʊ'],\n",
       " 'ɑ': ['ɑ', 'a'],\n",
       " 'ɡ': ['k', 'ɡ'],\n",
       " 'b': ['b', 'p'],\n",
       " 's': ['s'],\n",
       " 'd': ['t', 'd'],\n",
       " 'n̩': ['n̩'],\n",
       " 'l': ['l'],\n",
       " 'ɔ': ['ɔ'],\n",
       " 'm': ['m', 'm̩'],\n",
       " 'd͡ʒ': ['ʃ', 't͡ʃ', 'd͡ʒ'],\n",
       " 'ɲ': ['ɲ'],\n",
       " 'ɾ': ['ɾ'],\n",
       " 'v': ['f', 'v'],\n",
       " 'j': ['j'],\n",
       " 'w': ['w'],\n",
       " 'ʒ': ['z', 'd͡ʑ', 'θ', 'ʒ', 'ð'],\n",
       " 'h': ['h'],\n",
       " 'n': ['n'],\n",
       " 'ɹ': ['ɹ̩', 'ɹ'],\n",
       " 'ɕ': ['ɕ'],\n",
       " 'ʌ': ['ʌ'],\n",
       " 'x': ['x'],\n",
       " 'i': ['e', 'æ', 'ɛ', 'ə', 'i', 'ɪ'],\n",
       " 'ŋ': ['ŋ'],\n",
       " 'r': ['r'],\n",
       " 'ʔ': ['ʔ'],\n",
       " 'WORD_START': ['WORD_START'],\n",
       " 'WORD_END': ['WORD_END']}"
      ]
     },
     "execution_count": 220,
     "metadata": {},
     "output_type": "execute_result"
    }
   ],
   "source": [
    "# actually it will be more useful here to have a mapping from ipa tokens representing an equiv class to the rest of the equiv class\n",
    "token_to_equivclass = {}\n",
    "for rep_index in set(section.values()):\n",
    "    equiv_class_indices = [n for n in range(num_all_tokens) if projection[n]==projection[rep_index]]\n",
    "    equiv_class_tokens = [all_ipa_tokens[n] for n in equiv_class_indices]\n",
    "    token_to_equivclass[all_ipa_tokens[rep_index]] = equiv_class_tokens\n",
    "token_to_equivclass['WORD_START']=['WORD_START']\n",
    "token_to_equivclass['WORD_END']=['WORD_END']\n",
    "token_to_equivclass"
   ]
  },
  {
   "cell_type": "code",
   "execution_count": 238,
   "metadata": {},
   "outputs": [],
   "source": [
    "ipa_tokens = list(token_to_equivclass.keys())\n",
    "num_tokens = len(ipa_tokens)\n",
    "int_to_token = {n:ipa_tokens[n] for n in range(num_tokens)}\n",
    "ipa_tokens = set(ipa_tokens)\n",
    "token_to_int = {val:key for key,val in int_to_token.items()}"
   ]
  },
  {
   "cell_type": "code",
   "execution_count": 241,
   "metadata": {},
   "outputs": [
    {
     "data": {
      "text/plain": [
       "(30, 30, 30)"
      ]
     },
     "execution_count": 241,
     "metadata": {},
     "output_type": "execute_result"
    }
   ],
   "source": [
    "window_size = wg_eng.window_size\n",
    "# should really do a check that all languages have same window size\n",
    "# or maybe you should make window size be min over all languages, printing warning for this\n",
    "\n",
    "distribution = np.zeros((num_tokens,)*window_size,dtype=np.dtype('float32'))\n",
    "distribution.shape"
   ]
  },
  {
   "cell_type": "code",
   "execution_count": 257,
   "metadata": {
    "scrolled": false
   },
   "outputs": [
    {
     "ename": "ValueError",
     "evalue": "a must be non-empty",
     "output_type": "error",
     "traceback": [
      "\u001b[0;31m---------------------------------------------------------------------------\u001b[0m",
      "\u001b[0;31mValueError\u001b[0m                                Traceback (most recent call last)",
      "\u001b[0;32m<ipython-input-257-60246dee5b24>\u001b[0m in \u001b[0;36m<module>\u001b[0;34m\u001b[0m\n\u001b[1;32m     18\u001b[0m             \u001b[0mk_corresponding_token\u001b[0m \u001b[0;34m=\u001b[0m \u001b[0mint_to_token\u001b[0m\u001b[0;34m[\u001b[0m\u001b[0mk\u001b[0m\u001b[0;34m]\u001b[0m\u001b[0;34m\u001b[0m\u001b[0;34m\u001b[0m\u001b[0m\n\u001b[1;32m     19\u001b[0m             \u001b[0;32mif\u001b[0m \u001b[0mk_corresponding_token\u001b[0m \u001b[0;32mnot\u001b[0m \u001b[0;32min\u001b[0m \u001b[0mlearned_gen\u001b[0m\u001b[0;34m.\u001b[0m\u001b[0mget_ipa_tokens\u001b[0m\u001b[0;34m(\u001b[0m\u001b[0;34m)\u001b[0m\u001b[0;34m:\u001b[0m \u001b[0;31m# if that won't do, then...\u001b[0m\u001b[0;34m\u001b[0m\u001b[0;34m\u001b[0m\u001b[0m\n\u001b[0;32m---> 20\u001b[0;31m                 \u001b[0mk_corresponding_token\u001b[0m \u001b[0;34m=\u001b[0m \u001b[0mnp\u001b[0m\u001b[0;34m.\u001b[0m\u001b[0mrandom\u001b[0m\u001b[0;34m.\u001b[0m\u001b[0mchoice\u001b[0m\u001b[0;34m(\u001b[0m\u001b[0;34m[\u001b[0m\u001b[0mt\u001b[0m \u001b[0;32mfor\u001b[0m \u001b[0mt\u001b[0m \u001b[0;32min\u001b[0m \u001b[0mk_equiv_class\u001b[0m \u001b[0;32mif\u001b[0m \u001b[0mt\u001b[0m \u001b[0;32min\u001b[0m \u001b[0mlearned_gen\u001b[0m\u001b[0;34m.\u001b[0m\u001b[0mget_ipa_tokens\u001b[0m\u001b[0;34m(\u001b[0m\u001b[0;34m)\u001b[0m\u001b[0;34m]\u001b[0m\u001b[0;34m)\u001b[0m\u001b[0;34m\u001b[0m\u001b[0;34m\u001b[0m\u001b[0m\n\u001b[0m\u001b[1;32m     21\u001b[0m             \u001b[0mk_corresponding_index\u001b[0m \u001b[0;34m=\u001b[0m \u001b[0mlearned_gen\u001b[0m\u001b[0;34m.\u001b[0m\u001b[0mtoken_to_int\u001b[0m\u001b[0;34m(\u001b[0m\u001b[0mk_corresponding_token\u001b[0m\u001b[0;34m)\u001b[0m\u001b[0;34m\u001b[0m\u001b[0;34m\u001b[0m\u001b[0m\n\u001b[1;32m     22\u001b[0m \u001b[0;34m\u001b[0m\u001b[0m\n",
      "\u001b[0;32mmtrand.pyx\u001b[0m in \u001b[0;36mmtrand.RandomState.choice\u001b[0;34m()\u001b[0m\n",
      "\u001b[0;31mValueError\u001b[0m: a must be non-empty"
     ]
    }
   ],
   "source": [
    "# NOTE: This was a dumb idea. Skip this cell.\n",
    "\n",
    "# First I will assume window_size is 3. But soon come up with recursive approach that doesn't.\n",
    "for i in range(num_tokens):\n",
    "    i_equiv_class = token_to_equivclass[int_to_token[i]] # list of equivalent IPA tokens\n",
    "    learned_gen = np.random.choice([gen for gen in learned_gens if any(t in gen.get_ipa_tokens() for t in i_equiv_class)])\n",
    "    learned_distribution = learned_gen.get_distribution()\n",
    "    i_corresponding_token = int_to_token[i] # first we will try using this very token\n",
    "    if i_corresponding_token not in learned_gen.get_ipa_tokens(): # if that won't do, then...\n",
    "        i_corresponding_token = np.random.choice([t for t in i_equiv_class if t in learned_gen.get_ipa_tokens()])\n",
    "    i_corresponding_index = learned_gen.token_to_int(i_corresponding_token)\n",
    "    for j in range(num_tokens):\n",
    "        j_equiv_class = token_to_equivclass[int_to_token[j]] # list of equivalent IPA tokens\n",
    "        j_corresponding_token = int_to_token[j]\n",
    "        if j_corresponding_token not in learned_gen.get_ipa_tokens(): # if that won't do, then...\n",
    "            j_corresponding_token = np.random.choice([t for t in j_equiv_class if t in learned_gen.get_ipa_tokens()])\n",
    "        j_corresponding_index = learned_gen.token_to_int(j_corresponding_token)\n",
    "        for k in range(num_tokens):\n",
    "            k_equiv_class = token_to_equivclass[int_to_token[k]] # list of equivalent IPA tokens\n",
    "            k_corresponding_token = int_to_token[k]\n",
    "            if k_corresponding_token not in learned_gen.get_ipa_tokens(): # if that won't do, then...\n",
    "                k_corresponding_token = np.random.choice([t for t in k_equiv_class if t in learned_gen.get_ipa_tokens()])\n",
    "            k_corresponding_index = learned_gen.token_to_int(k_corresponding_token)\n",
    "            \n",
    "            distribution[i,j,k] = learned_distribution[i_corresponding_index,j_corresponding_index,k_corresponding_index]\n",
    "    \n"
   ]
  },
  {
   "cell_type": "code",
   "execution_count": 289,
   "metadata": {
    "scrolled": false
   },
   "outputs": [],
   "source": [
    "from itertools import product\n",
    "\n",
    "distribution = np.zeros((num_tokens,)*window_size,dtype=np.dtype('float32'))\n",
    "for token_indices in product(range(num_tokens),repeat=window_size):\n",
    "    \n",
    "    tokens = [int_to_token[i] for i in token_indices]\n",
    "    equiv_classes = [token_to_equivclass[t] for t in tokens]\n",
    "    \n",
    "    potential_gens = {} # keys will be learned wordgens that could be used to populate distribution[token_indices]\n",
    "                        # values will be a score; higher means better candidate\n",
    "    for gen in learned_gens:\n",
    "        potential_tokens = gen.get_ipa_tokens()\n",
    "        if all(any(t in potential_tokens for t in cls) for cls in equiv_classes):\n",
    "            potential_gens[gen] = sum(1 for t in tokens if t in potential_tokens)\n",
    "    \n",
    "    if not potential_gens: # if it's an empty dict\n",
    "        continue # move on and leave distribution[token_indices] as zero\n",
    "    \n",
    "    max_score = max(potential_gens.values())\n",
    "    best_gens = [gen for gen in potential_gens.keys() if potential_gens[gen]==max_score]\n",
    "    gen_to_use = np.random.choice(best_gens)\n",
    "    \n",
    "    indices_to_use = [] # indices of gen_to_use type to use for each token in tokens\n",
    "    for t in tokens:\n",
    "        if t in gen_to_use.get_ipa_tokens():\n",
    "            indices_to_use.append(gen_to_use.token_to_int(t))\n",
    "        else:\n",
    "            potential_indices = [gen_to_use.token_to_int(t1) for t1 in token_to_equivclass[t] if t1 in gen_to_use.get_ipa_tokens()]\n",
    "            indices_to_use.append(np.random.choice(potential_indices))\n",
    "    indices_to_use = tuple(indices_to_use)\n",
    "    \n",
    "    distribution[token_indices] = gen_to_use.get_distribution()[indices_to_use]"
   ]
  },
  {
   "cell_type": "code",
   "execution_count": 290,
   "metadata": {},
   "outputs": [],
   "source": [
    "# re-normalize distribution\n",
    "totals = distribution.sum(axis=window_size-1)\n",
    "distribution = distribution / (np.vectorize(lambda x : x if x!=0 else 1)(totals.reshape(totals.shape+(1,))))"
   ]
  },
  {
   "cell_type": "code",
   "execution_count": 297,
   "metadata": {},
   "outputs": [
    {
     "name": "stdout",
     "output_type": "stream",
     "text": [
      "Loading Epitran with language code eng-Latn... success!\n"
     ]
    }
   ],
   "source": [
    "# A bad temporary approach here until I make an actual class WordgenGenerated\n",
    "wg = WordgenLearned(window_size,'eng-Latn') # the eng-Latn is just to not have error. We will get rid of it what it does.\n",
    "wg._ipa_tokens = ipa_tokens\n",
    "wg._int_to_token = int_to_token\n",
    "wg._token_to_int = token_to_int\n",
    "wg._distribution = distribution"
   ]
  },
  {
   "cell_type": "code",
   "execution_count": 310,
   "metadata": {},
   "outputs": [
    {
     "name": "stdout",
     "output_type": "stream",
     "text": [
      "ɡrɑsɑns\n",
      "hɑɹd͡ʒ\n",
      "Uh oh! This shouldn't happen, right? [11, 10]\n",
      "bʌd͡ʒmw\n",
      "lurʔɑxirum\n",
      "ɡɹul\n",
      "t͡ɕhɑɹd͡ʒ\n",
      "ɔɹɡjundi\n",
      "ɹid͡ʒi\n",
      "blibɹi\n",
      "rindi\n",
      "bɔlsurumlisiv\n",
      "biliŋ\n",
      "judisi\n",
      "liɑliŋ\n",
      "budrɑs\n",
      "ɑɹɡjuruvd\n",
      "hɔɹi\n",
      "swɑrludusi\n"
     ]
    }
   ],
   "source": [
    "for _ in range(50):\n",
    "    word = wg.generate_word()\n",
    "    if len(word)>3:\n",
    "        print(word)"
   ]
  },
  {
   "cell_type": "markdown",
   "metadata": {},
   "source": [
    "Oh... what happened there? Look into that. Then create a class that does this stuff, then collect lots of learned languages and try out a merging!"
   ]
  }
 ],
 "metadata": {
  "kernelspec": {
   "display_name": "Python 3",
   "language": "python",
   "name": "python3"
  },
  "language_info": {
   "codemirror_mode": {
    "name": "ipython",
    "version": 3
   },
   "file_extension": ".py",
   "mimetype": "text/x-python",
   "name": "python",
   "nbconvert_exporter": "python",
   "pygments_lexer": "ipython3",
   "version": "3.6.8"
  }
 },
 "nbformat": 4,
 "nbformat_minor": 2
}
