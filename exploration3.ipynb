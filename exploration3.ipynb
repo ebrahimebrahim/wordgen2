{
 "cells": [
  {
   "cell_type": "markdown",
   "metadata": {},
   "source": [
    "Goal: Use data from [phoible](https://phoible.org/) to learn a useful embedding from phonological feature space to a vector space in which distances between allophones tend to be small. Go to the [phoible project github](https://github.com/phoible/dev/tree/master/data) and grab phoible.csv for this exploration."
   ]
  },
  {
   "cell_type": "code",
   "execution_count": 1,
   "metadata": {},
   "outputs": [],
   "source": [
    "%matplotlib inline\n",
    "\n",
    "import numpy as np\n",
    "import torch\n",
    "import matplotlib.pyplot as plt"
   ]
  },
  {
   "cell_type": "code",
   "execution_count": 2,
   "metadata": {},
   "outputs": [],
   "source": [
    "import torch.nn as nn\n",
    "\n",
    "class EmbedPhones(nn.Module):\n",
    "\n",
    "    def __init__(self, num_features):\n",
    "        super(EmbedPhones, self).__init__()\n",
    "        \n",
    "        self.res = nn.Linear(num_features,num_features,bias=False)\n",
    "#         identity=torch.from_numpy(np.identity(num_features,dtype=np.dtype('float32')))\n",
    "        with torch.no_grad():\n",
    "            self.res.weight.normal_(0,0.02)\n",
    "#             self.embed.weight += identity\n",
    "        \n",
    "    def forward(self, x):\n",
    "        \n",
    "        return x+self.res(x) # res represents the difference between the embedding map and the identity map\n"
   ]
  },
  {
   "cell_type": "code",
   "execution_count": 3,
   "metadata": {},
   "outputs": [],
   "source": [
    "import os,sys\n",
    "def add_path_to_local_module(module_name):\n",
    "    module_path = os.path.abspath(os.path.join(module_name))\n",
    "    if module_path not in sys.path:\n",
    "        sys.path.append(module_path)\n",
    "add_path_to_local_module(\"epitran\")\n",
    "add_path_to_local_module(\"panphon\")\n",
    "\n",
    "import panphon.featuretable\n",
    "ft = panphon.featuretable.FeatureTable()"
   ]
  },
  {
   "cell_type": "code",
   "execution_count": 4,
   "metadata": {},
   "outputs": [
    {
     "name": "stdout",
     "output_type": "stream",
     "text": [
      "22  features for 'ɛ æ':\n",
      " tensor([[ 1.,  1., -1.,  1., -1., -1., -1.,  0.,  1., -1., -1.,  0., -1.,  0.,\n",
      "         -1., -1., -1., -1., -1., -1., -1., -1.],\n",
      "        [ 1.,  1., -1.,  1., -1., -1., -1.,  0.,  1., -1., -1.,  0., -1.,  0.,\n",
      "         -1., -1.,  1., -1., -1., -1.,  1., -1.]])\n"
     ]
    },
    {
     "data": {
      "text/plain": [
       "tensor([[ 0.9676,  1.0169, -1.0368,  1.0090, -0.8588, -1.0098, -0.9148,  0.1319,\n",
       "          0.9595, -1.0244, -1.0813, -0.0021, -1.0233,  0.1258, -1.0066, -0.9058,\n",
       "         -0.9839, -0.9909, -1.1066, -0.9941, -1.0503, -1.0760],\n",
       "        [ 0.9504,  1.0994, -1.0300,  1.1153, -0.9616, -0.9954, -0.9698,  0.0107,\n",
       "          0.9758, -1.0851, -1.0607, -0.0257, -0.9571,  0.1589, -0.9806, -0.9195,\n",
       "          0.9735, -0.8849, -1.1566, -0.9629,  0.8841, -0.9182]],\n",
       "       grad_fn=<AddBackward0>)"
      ]
     },
     "execution_count": 4,
     "metadata": {},
     "output_type": "execute_result"
    }
   ],
   "source": [
    "class PanphonNoLikey(Exception):\n",
    "    pass\n",
    "\n",
    "class NoAvailableData(Exception):\n",
    "    pass\n",
    "\n",
    "def to_panphon_fts(ipa_symbols):\n",
    "    \"\"\" Convert a string of ipa symbols to a numpy matrix whose rows are features.\n",
    "        Do not include duplicates when panphon identifies symbols in terms of features. \"\"\"\n",
    "    if ipa_symbols == \"NA\" :  raise NoAvailableData(\"The string you gave indicates that there's no allophone data\")\n",
    "    fts = ft.word_to_vector_list(ipa_symbols,numeric=True)\n",
    "    if not fts : raise PanphonNoLikey(\"Panphon does not recognize this IPA symbol\")\n",
    "    fts = np.array(fts) \n",
    "    fts = np.unique(fts,axis=0) # panphon will identify some things; this gets rid of duplicates\n",
    "    fts = fts.astype(np.dtype('float32'))\n",
    "    return torch.from_numpy(fts)\n",
    "\n",
    "feats = to_panphon_fts('ɛ æ')\n",
    "num_features = len(feats[0])\n",
    "print(num_features,\" features for 'ɛ æ':\\n\",feats)\n",
    "emb = EmbedPhones(num_features)\n",
    "emb(feats)"
   ]
  },
  {
   "cell_type": "code",
   "execution_count": 5,
   "metadata": {},
   "outputs": [],
   "source": [
    "import csv\n",
    "\n",
    "def allophone_data_by_language(num_lists=np.inf):\n",
    "    f = open('phoible.csv')\n",
    "    reader = csv.reader(f)\n",
    "    head = next(reader)\n",
    "    allophones_index = head.index('Allophones')\n",
    "    langkey_index = head.index('ISO6393')\n",
    "    last_langkey = \"not a lang key\"\n",
    "    num_yielded = 0\n",
    "    for i,row in enumerate(reader):\n",
    "        if row[langkey_index] != last_langkey:\n",
    "#             print(\"About to yield data for language\",last_langkey)\n",
    "            last_langkey = row[langkey_index]\n",
    "            if i!=0 and allophone_data:\n",
    "                yield allophone_data\n",
    "                num_yielded += 1\n",
    "            if num_yielded >= num_lists: break\n",
    "            allophone_data = []\n",
    "        try:\n",
    "            allophone_list = to_panphon_fts(row[allophones_index])\n",
    "        except PanphonNoLikey: # We will just skip the entire list of allophones in this case\n",
    "            continue\n",
    "        except NoAvailableData: # We will just skip the entire list of allophones in this case\n",
    "            continue\n",
    "        allophone_data.append(allophone_list)\n",
    "    f.close()"
   ]
  },
  {
   "cell_type": "code",
   "execution_count": 6,
   "metadata": {
    "scrolled": true
   },
   "outputs": [],
   "source": [
    "allophone_data_by_language_list = list(allophone_data_by_language())"
   ]
  },
  {
   "cell_type": "code",
   "execution_count": 7,
   "metadata": {},
   "outputs": [],
   "source": [
    "import random\n",
    "\n",
    "def allophone_data_by_language_shuffled():\n",
    "    indices = list(range(len(allophone_data_by_language_list)))\n",
    "    random.shuffle(indices)\n",
    "    for index in indices:\n",
    "        yield allophone_data_by_language_list[index]"
   ]
  },
  {
   "cell_type": "code",
   "execution_count": 8,
   "metadata": {},
   "outputs": [],
   "source": [
    "def distinct_pairs(N):\n",
    "    \"\"\"Generate pairs of integers i<j such that 0 <= i < j < N\"\"\"\n",
    "    for i in range(N):\n",
    "        for j in range(i+1,N):\n",
    "            yield i,j"
   ]
  },
  {
   "cell_type": "code",
   "execution_count": 9,
   "metadata": {},
   "outputs": [],
   "source": [
    "def sqdist(x,y):\n",
    "    \"\"\"Return squared distance between two 1D torch tensors\"\"\"\n",
    "    return ((x-y)**2).sum()"
   ]
  },
  {
   "cell_type": "code",
   "execution_count": 10,
   "metadata": {},
   "outputs": [],
   "source": [
    "import torch.optim as optim\n",
    "\n",
    "emb = EmbedPhones(num_features)\n",
    "lr = 0.0001\n",
    "optimizer = optim.Adam(emb.parameters(),lr=lr,weight_decay=1.)"
   ]
  },
  {
   "cell_type": "code",
   "execution_count": 25,
   "metadata": {
    "scrolled": false
   },
   "outputs": [
    {
     "name": "stdout",
     "output_type": "stream",
     "text": [
      "0 languages processed. Avg cost:  -1460.8521728515625\n",
      "50 languages processed. Avg cost:  -1503.3360885620118\n",
      "100 languages processed. Avg cost:  -4249.62675415039\n",
      "150 languages processed. Avg cost:  -1321.8668353271485\n",
      "200 languages processed. Avg cost:  -2573.298227844238\n",
      "250 languages processed. Avg cost:  -1988.411904296875\n",
      "300 languages processed. Avg cost:  -1502.9762258911132\n",
      "350 languages processed. Avg cost:  -1612.1276971435548\n",
      "400 languages processed. Avg cost:  -1405.1731420898439\n",
      "450 languages processed. Avg cost:  -3501.915505371094\n",
      "500 languages processed. Avg cost:  -1530.2258169555664\n",
      "550 languages processed. Avg cost:  -1712.7431854248048\n",
      "600 languages processed. Avg cost:  -4124.578305358887\n",
      "650 languages processed. Avg cost:  -1924.862767944336\n",
      "700 languages processed. Avg cost:  -1695.6082055664062\n",
      "750 languages processed. Avg cost:  -1790.1763726806641\n",
      "800 languages processed. Avg cost:  -1780.4346197509765\n",
      "850 languages processed. Avg cost:  -2070.85224609375\n",
      "900 languages processed. Avg cost:  -2257.706412963867\n",
      "950 languages processed. Avg cost:  -1853.3674475097657\n",
      "1000 languages processed. Avg cost:  -1913.6001678466796\n",
      "1050 languages processed. Avg cost:  -2332.329545288086\n",
      "1100 languages processed. Avg cost:  -4569.220536193848\n",
      "1150 languages processed. Avg cost:  -2658.349429626465\n",
      "1200 languages processed. Avg cost:  -2838.766262512207\n",
      "1250 languages processed. Avg cost:  -2278.6818786621093\n",
      "0 languages processed. Avg cost:  -1934.2007555280413\n",
      "50 languages processed. Avg cost:  -2431.9005773925783\n",
      "100 languages processed. Avg cost:  -2048.058779296875\n",
      "150 languages processed. Avg cost:  -1894.0119952392579\n",
      "200 languages processed. Avg cost:  -2200.217657470703\n",
      "250 languages processed. Avg cost:  -2085.7262115478516\n",
      "300 languages processed. Avg cost:  -2815.4133880615236\n",
      "350 languages processed. Avg cost:  -2593.8669885253908\n",
      "400 languages processed. Avg cost:  -2630.945900268555\n",
      "450 languages processed. Avg cost:  -6633.71684753418\n",
      "500 languages processed. Avg cost:  -2599.1863842773437\n",
      "550 languages processed. Avg cost:  -3260.3094940185547\n",
      "600 languages processed. Avg cost:  -2723.1907958984375\n",
      "650 languages processed. Avg cost:  -3093.8629150390625\n",
      "700 languages processed. Avg cost:  -3419.2509143066404\n",
      "750 languages processed. Avg cost:  -4885.887401733398\n",
      "800 languages processed. Avg cost:  -7540.240224609375\n",
      "850 languages processed. Avg cost:  -3562.154705200195\n",
      "900 languages processed. Avg cost:  -3489.1593896484374\n",
      "950 languages processed. Avg cost:  -3171.567682495117\n",
      "1000 languages processed. Avg cost:  -6350.331217041015\n",
      "1050 languages processed. Avg cost:  -2733.4645764160155\n",
      "1100 languages processed. Avg cost:  -3319.711151123047\n",
      "1150 languages processed. Avg cost:  -4326.927669677734\n",
      "1200 languages processed. Avg cost:  -3586.649180908203\n",
      "1250 languages processed. Avg cost:  -9736.606156005859\n",
      "0 languages processed. Avg cost:  -3874.0873434884206\n",
      "50 languages processed. Avg cost:  -3483.982663574219\n",
      "100 languages processed. Avg cost:  -4194.989326171875\n",
      "150 languages processed. Avg cost:  -3298.905607910156\n",
      "200 languages processed. Avg cost:  -4264.644498291015\n",
      "250 languages processed. Avg cost:  -5025.661899414063\n",
      "300 languages processed. Avg cost:  -3728.666663818359\n",
      "350 languages processed. Avg cost:  -5383.727131347656\n",
      "400 languages processed. Avg cost:  -4216.766739501953\n",
      "450 languages processed. Avg cost:  -4469.136022949218\n",
      "500 languages processed. Avg cost:  -4209.362020263672\n",
      "550 languages processed. Avg cost:  -4324.715922851563\n",
      "600 languages processed. Avg cost:  -4914.258172607422\n",
      "650 languages processed. Avg cost:  -4350.830115966797\n",
      "700 languages processed. Avg cost:  -10274.504337158203\n",
      "750 languages processed. Avg cost:  -4057.3481213378905\n",
      "800 languages processed. Avg cost:  -4718.205352783203\n",
      "850 languages processed. Avg cost:  -11271.396267089844\n",
      "900 languages processed. Avg cost:  -5960.844300537109\n",
      "950 languages processed. Avg cost:  -5720.718070068359\n",
      "1000 languages processed. Avg cost:  -15939.670285644532\n",
      "1050 languages processed. Avg cost:  -5448.165190429688\n",
      "1100 languages processed. Avg cost:  -7380.9253442382815\n",
      "1150 languages processed. Avg cost:  -9295.335462646484\n",
      "1200 languages processed. Avg cost:  -5473.577241210937\n",
      "1250 languages processed. Avg cost:  -6394.695595703125\n",
      "0 languages processed. Avg cost:  -5513.423509870257\n",
      "50 languages processed. Avg cost:  -9578.211252441406\n",
      "100 languages processed. Avg cost:  -6352.018239746094\n",
      "150 languages processed. Avg cost:  -6707.117048339844\n",
      "200 languages processed. Avg cost:  -5279.105391845703\n",
      "250 languages processed. Avg cost:  -15760.022944335937\n",
      "300 languages processed. Avg cost:  -6281.071712646484\n",
      "350 languages processed. Avg cost:  -7204.9241235351565\n",
      "400 languages processed. Avg cost:  -15583.772009277343\n",
      "450 languages processed. Avg cost:  -5642.119086914063\n",
      "500 languages processed. Avg cost:  -6898.113059082031\n",
      "550 languages processed. Avg cost:  -5950.457163085937\n",
      "600 languages processed. Avg cost:  -5677.786301269532\n",
      "650 languages processed. Avg cost:  -6937.08283203125\n",
      "700 languages processed. Avg cost:  -9627.742416992187\n",
      "750 languages processed. Avg cost:  -6189.199816894531\n",
      "800 languages processed. Avg cost:  -5183.200771484375\n",
      "850 languages processed. Avg cost:  -6220.617958984375\n",
      "900 languages processed. Avg cost:  -6076.144038085938\n",
      "950 languages processed. Avg cost:  -10965.196481933594\n",
      "1000 languages processed. Avg cost:  -7822.56458984375\n",
      "1050 languages processed. Avg cost:  -5845.948334960937\n",
      "1100 languages processed. Avg cost:  -7819.8475415039065\n",
      "1150 languages processed. Avg cost:  -7448.376651611328\n",
      "1200 languages processed. Avg cost:  -19101.440207519532\n",
      "1250 languages processed. Avg cost:  -11004.417385253906\n"
     ]
    }
   ],
   "source": [
    "epochs = 4\n",
    "costs = []\n",
    "for e in range(epochs):\n",
    "    for step_num,allophone_data in enumerate(allophone_data_by_language_shuffled()):\n",
    "\n",
    "        allophone_dists   = 0.\n",
    "        nallophone_dists  = 0. \n",
    "\n",
    "        optimizer.zero_grad()\n",
    "\n",
    "        for allophone_list in allophone_data:\n",
    "            for i,j in distinct_pairs(len(allophone_list)):\n",
    "                allophone_dists += sqdist(emb(allophone_list[i]),emb(allophone_list[j]))\n",
    "        for i,j in distinct_pairs(len(allophone_data)):\n",
    "            for x in allophone_data[i]:\n",
    "                for y in allophone_data[j]:\n",
    "                    nallophone_dists += sqdist(emb(x),emb(y))\n",
    "\n",
    "        cost = allophone_dists - 0.05 * nallophone_dists\n",
    "        cost.backward()\n",
    "        costs.append(cost.item())\n",
    "        if step_num%50==0:\n",
    "            print(step_num,\"languages processed. Avg cost: \",np.mean(costs))\n",
    "            costs = []\n",
    "        optimizer.step()"
   ]
  },
  {
   "cell_type": "code",
   "execution_count": 11,
   "metadata": {},
   "outputs": [
    {
     "data": {
      "text/plain": [
       "Parameter containing:\n",
       "tensor([[-0.0471, -0.0306, -0.0095, -0.0053,  0.0156, -0.0119,  0.0292, -0.0061,\n",
       "          0.0268, -0.0164,  0.0005, -0.0107,  0.0023,  0.0106, -0.0191, -0.0219,\n",
       "         -0.0256, -0.0401,  0.0042, -0.0240, -0.0217,  0.0334],\n",
       "        [-0.0327,  0.0374, -0.0130, -0.0193,  0.0131,  0.0039, -0.0230, -0.0256,\n",
       "          0.0220,  0.0226, -0.0093,  0.0216,  0.0035,  0.0060, -0.0026,  0.0176,\n",
       "          0.0040,  0.0175, -0.0145, -0.0260,  0.0121, -0.0139],\n",
       "        [ 0.0189,  0.0237,  0.0278,  0.0162, -0.0260, -0.0408, -0.0009,  0.0222,\n",
       "         -0.0298, -0.0021,  0.0200, -0.0032, -0.0343,  0.0238,  0.0115,  0.0045,\n",
       "          0.0006, -0.0379, -0.0296,  0.0115, -0.0144,  0.0274],\n",
       "        [-0.0242, -0.0063, -0.0060,  0.0312,  0.0007, -0.0111, -0.0117,  0.0258,\n",
       "         -0.0060,  0.0065,  0.0034,  0.0106,  0.0221,  0.0109,  0.0152, -0.0272,\n",
       "          0.0200, -0.0071,  0.0062, -0.0014, -0.0331, -0.0313],\n",
       "        [-0.0300, -0.0081,  0.0384, -0.0057, -0.0093, -0.0161,  0.0443, -0.0207,\n",
       "         -0.0055, -0.0264,  0.0040, -0.0080,  0.0324,  0.0368, -0.0051,  0.0043,\n",
       "          0.0403, -0.0162, -0.0306,  0.0015,  0.0263, -0.0101],\n",
       "        [ 0.0161,  0.0326, -0.0155,  0.0252, -0.0149,  0.0258, -0.0194,  0.0077,\n",
       "         -0.0043, -0.0083,  0.0056,  0.0164,  0.0236, -0.0021,  0.0042, -0.0299,\n",
       "          0.0043, -0.0084, -0.0046,  0.0142, -0.0069,  0.0119],\n",
       "        [ 0.0161,  0.0038,  0.0276, -0.0037, -0.0109, -0.0015,  0.0180,  0.0137,\n",
       "          0.0442, -0.0215, -0.0169, -0.0039, -0.0147,  0.0053,  0.0127, -0.0175,\n",
       "          0.0591, -0.0195, -0.0052, -0.0203,  0.0274,  0.0195],\n",
       "        [-0.0164, -0.0115, -0.0049, -0.0039,  0.0061, -0.0154,  0.0211, -0.0077,\n",
       "          0.0043,  0.0229, -0.0144,  0.0107, -0.0574,  0.0067, -0.0022, -0.0390,\n",
       "         -0.0251, -0.0194, -0.0118, -0.0286,  0.0008,  0.0174],\n",
       "        [ 0.0004,  0.0361,  0.0520,  0.0271,  0.0256, -0.0150, -0.0027,  0.0170,\n",
       "          0.0018,  0.0294, -0.0355,  0.0120, -0.0102, -0.0036,  0.0202, -0.0018,\n",
       "          0.0106,  0.0125,  0.0169,  0.0021,  0.0015, -0.0124],\n",
       "        [ 0.0222, -0.0123,  0.0146,  0.0375, -0.0124,  0.0348, -0.0238, -0.0011,\n",
       "         -0.0139,  0.0140,  0.0350, -0.0031, -0.0292, -0.0301,  0.0123,  0.0362,\n",
       "          0.0241, -0.0076,  0.0339,  0.0018, -0.0157, -0.0001],\n",
       "        [-0.0181, -0.0126,  0.0247, -0.0023,  0.0137, -0.0103, -0.0010,  0.0110,\n",
       "         -0.0262,  0.0023, -0.0072,  0.0123,  0.0243, -0.0032,  0.0272,  0.0373,\n",
       "         -0.0404, -0.0128, -0.0138,  0.0071, -0.0115, -0.0078],\n",
       "        [ 0.0010,  0.0043,  0.0032, -0.0166, -0.0152, -0.0384, -0.0136, -0.0105,\n",
       "         -0.0336, -0.0313,  0.0445,  0.0016,  0.0319,  0.0077,  0.0005, -0.0112,\n",
       "          0.0062, -0.0107,  0.0016, -0.0195, -0.0084,  0.0090],\n",
       "        [ 0.0179,  0.0069, -0.0182, -0.0367,  0.0181, -0.0071, -0.0090, -0.0276,\n",
       "         -0.0038,  0.0244,  0.0003, -0.0059,  0.0524,  0.0196,  0.0178,  0.0064,\n",
       "          0.0322,  0.0276,  0.0165,  0.0030,  0.0094,  0.0304],\n",
       "        [ 0.0214, -0.0038, -0.0056, -0.0475,  0.0315,  0.0034,  0.0252, -0.0216,\n",
       "          0.0208,  0.0080,  0.0160, -0.0237, -0.0353,  0.0320, -0.0297, -0.0259,\n",
       "          0.0190, -0.0020,  0.0306,  0.0010, -0.0050,  0.0151],\n",
       "        [-0.0053, -0.0048, -0.0177, -0.0025,  0.0181,  0.0317, -0.0271, -0.0117,\n",
       "         -0.0078, -0.0031,  0.0188,  0.0116, -0.0177,  0.0099, -0.0151,  0.0094,\n",
       "         -0.0088,  0.0030,  0.0018, -0.0070, -0.0047,  0.0443],\n",
       "        [-0.0080,  0.0078, -0.0186, -0.0323, -0.0083, -0.0028,  0.0241, -0.0203,\n",
       "          0.0180, -0.0286,  0.0207, -0.0306, -0.0058,  0.0009,  0.0017, -0.0083,\n",
       "          0.0407,  0.0127, -0.0131,  0.0309,  0.0223,  0.0354],\n",
       "        [ 0.0366,  0.0147,  0.0074, -0.0379, -0.0146, -0.0225, -0.0436,  0.0317,\n",
       "         -0.0045, -0.0238,  0.0440,  0.0183,  0.0200,  0.0002, -0.0234,  0.0194,\n",
       "          0.0304,  0.0166, -0.0017, -0.0003, -0.0138, -0.0117],\n",
       "        [ 0.0018, -0.0417,  0.0272, -0.0046,  0.0030,  0.0437,  0.0031,  0.0164,\n",
       "         -0.0164, -0.0477,  0.0114, -0.0119,  0.0083,  0.0231,  0.0130,  0.0101,\n",
       "         -0.0356, -0.0590,  0.0215,  0.0153, -0.0101, -0.0271],\n",
       "        [ 0.0217,  0.0116, -0.0233, -0.0332,  0.0281,  0.0176,  0.0005,  0.0267,\n",
       "          0.0061, -0.0430, -0.0454, -0.0189,  0.0027, -0.0476, -0.0124,  0.0204,\n",
       "         -0.0144, -0.0356,  0.0250, -0.0110,  0.0104,  0.0070],\n",
       "        [ 0.0028,  0.0076, -0.0003, -0.0240, -0.0154, -0.0032, -0.0024, -0.0052,\n",
       "          0.0225, -0.0216, -0.0011, -0.0324,  0.0099,  0.0391,  0.0210,  0.0021,\n",
       "         -0.0065,  0.0053,  0.0049, -0.0004, -0.0378,  0.0140],\n",
       "        [ 0.0076, -0.0195,  0.0257,  0.0308, -0.0386, -0.0264, -0.0279, -0.0138,\n",
       "          0.0130,  0.0224, -0.0285,  0.0189,  0.0173, -0.0101,  0.0050,  0.0078,\n",
       "          0.0032,  0.0268, -0.0138, -0.0164,  0.0236,  0.0011],\n",
       "        [-0.0108, -0.0082,  0.0009,  0.0198, -0.0094, -0.0192, -0.0149, -0.0071,\n",
       "         -0.0261, -0.0407, -0.0106,  0.0033,  0.0015,  0.0059,  0.0336,  0.0118,\n",
       "          0.0363, -0.0110, -0.0003, -0.0290, -0.0405, -0.0028]],\n",
       "       requires_grad=True)"
      ]
     },
     "execution_count": 11,
     "metadata": {},
     "output_type": "execute_result"
    }
   ],
   "source": [
    "emb.res.weight"
   ]
  },
  {
   "cell_type": "code",
   "execution_count": 12,
   "metadata": {},
   "outputs": [],
   "source": [
    "def dist(x,y):\n",
    "    \"\"\"distance between two feature vectors (1d torch tensors) after embedding\"\"\"\n",
    "    return torch.sqrt(sqdist(emb(x),emb(y))).item()"
   ]
  },
  {
   "cell_type": "code",
   "execution_count": 13,
   "metadata": {},
   "outputs": [
    {
     "name": "stdout",
     "output_type": "stream",
     "text": [
      "Loading Epitran with language code ind-Latn... success!\n",
      "6.872824668884277 0.9942989945411682\n"
     ]
    },
    {
     "data": {
      "image/png": "[encoded data removed]",
      "text/plain": [
       "<Figure size 432x288 with 1 Axes>"
      ]
     },
     "metadata": {
      "needs_background": "light"
     },
     "output_type": "display_data"
    }
   ],
   "source": [
    "from wordgen import *\n",
    "wg = WordgenLearned(3,\"ind-Latn\")\n",
    "\n",
    "ipa_chars = wg.load_ipa_chars('eng-Latn')\n",
    "\n",
    "dists = []\n",
    "for c1 in ipa_chars:\n",
    "    for c2 in ipa_chars:\n",
    "        s1,s2 = to_panphon_fts(c1),to_panphon_fts(c2)\n",
    "        assert(len(s1)==1)\n",
    "        assert(len(s2)==1)\n",
    "        s1,s2 = s1[0],s2[0]\n",
    "        if c1 != c2 : dists.append(dist(s1,s2))\n",
    "max_dist,min_dist = max(dists),min(dists)\n",
    "print(max_dist,min_dist)\n",
    "plt.hist(dists)\n",
    "plt.show()"
   ]
  },
  {
   "cell_type": "code",
   "execution_count": 14,
   "metadata": {},
   "outputs": [],
   "source": [
    "ipa_chars = list(wg.load_ipa_chars('ind-Latn')) # now this is an ordered list, kind of serving as an enumeration\n",
    "num_chars = len(ipa_chars)\n",
    "projection = [n for n in range(num_chars)] # we start with identity mapping and will gradually identify things\n",
    "# think of projection as mapping from indices representing ipa_chars to equivalence classes\n",
    "# the number of equivalence classes is len(set(projection))\n",
    "M = 25\n",
    "step_size = (max_dist-min_dist)/float((len(ipa_chars)-M)*500)\n",
    "spread = step_size/2.\n",
    "for r0 in np.arange(min_dist,max_dist,step_size):\n",
    "    r = np.random.normal(r0,spread)\n",
    "    ipa_char_index = np.random.randint(num_chars)\n",
    "    s0 = to_panphon_fts(ipa_chars[ipa_char_index])\n",
    "    assert(len(s0)==1)\n",
    "    s0 = s0[0]\n",
    "    for n in range(num_chars):\n",
    "        s = to_panphon_fts(ipa_chars[n])\n",
    "        assert(len(s)==1)\n",
    "        s = s[0]\n",
    "        if dist(s,s0)<r:\n",
    "            projection[n]=projection[ipa_char_index]\n",
    "    if len(set(projection))<=M: break"
   ]
  },
  {
   "cell_type": "code",
   "execution_count": 15,
   "metadata": {
    "scrolled": false
   },
   "outputs": [
    {
     "name": "stdout",
     "output_type": "stream",
     "text": [
      "['m']\n",
      "['t͡ɕ', 'd͡ʑ']\n",
      "['u']\n",
      "['w']\n",
      "['s']\n",
      "['i']\n",
      "['d']\n",
      "['z']\n",
      "['ə']\n",
      "['l']\n",
      "['a']\n",
      "['o']\n",
      "['ɡ', 'k']\n",
      "['b']\n",
      "['t']\n",
      "['ŋ', 'ɲ']\n",
      "['h']\n",
      "['p']\n",
      "['ɕ']\n",
      "['n']\n",
      "['f']\n",
      "['x']\n",
      "['ʔ']\n",
      "['r']\n",
      "['j']\n"
     ]
    }
   ],
   "source": [
    "for p in set(projection):\n",
    "    print([ipa_chars[n] for n in range(num_chars) if projection[n]==p])"
   ]
  },
  {
   "cell_type": "markdown",
   "metadata": {},
   "source": [
    "Next: It makes sense that the embedding is cramming together any potential allophones to be really close together, becuase it makes sense to do that and to make up for it by just pushing things more far apart in general. Hmm what do...\n",
    "\n",
    "Basically the issue was that attraction was stronger than repulsion. Strengthening repulsion a bit helped to remedy the problem. The histogram of distances has a spike at small distances, which we could visibly see moving to the right.\n",
    "\n",
    "Next: Run a search, bascially, over different values of that hyperparameter that governs attractions vs repulsion. For each value, show the histogram of distances. Choose the histogram that looks the most \"balanced\" and try that."
   ]
  },
  {
   "cell_type": "code",
   "execution_count": null,
   "metadata": {
    "scrolled": false
   },
   "outputs": [
    {
     "name": "stdout",
     "output_type": "stream",
     "text": [
      "1270 languages processed. Avg cost: -180.02958183288575               \n",
      "alpha = 0.01\n",
      "8.714349746704102 0.9940924048423767\n"
     ]
    },
    {
     "data": {
      "image/png": "[encoded data removed]",
      "text/plain": [
       "<Figure size 432x288 with 1 Axes>"
      ]
     },
     "metadata": {
      "needs_background": "light"
     },
     "output_type": "display_data"
    },
    {
     "name": "stdout",
     "output_type": "stream",
     "text": [
      "---\n",
      "1270 languages processed. Avg cost: -712.2066513061524                \n",
      "alpha = 0.02\n",
      "9.905616760253906 1.0987746715545654\n"
     ]
    },
    {
     "data": {
      "image/png": "[encoded data removed]",
      "text/plain": [
       "<Figure size 432x288 with 1 Axes>"
      ]
     },
     "metadata": {
      "needs_background": "light"
     },
     "output_type": "display_data"
    },
    {
     "name": "stdout",
     "output_type": "stream",
     "text": [
      "---\n",
      "1270 languages processed. Avg cost: -2032.7812622070312               \n",
      "alpha = 0.03\n",
      "10.843070983886719 1.0451524257659912\n"
     ]
    },
    {
     "data": {
      "image/png": "[encoded data removed]",
      "text/plain": [
       "<Figure size 432x288 with 1 Axes>"
      ]
     },
     "metadata": {
      "needs_background": "light"
     },
     "output_type": "display_data"
    },
    {
     "name": "stdout",
     "output_type": "stream",
     "text": [
      "---\n",
      "1270 languages processed. Avg cost: -1082.793324279785                \n",
      "alpha = 0.04\n",
      "8.950520515441895 1.0219138860702515\n"
     ]
    },
    {
     "data": {
      "image/png": "[encoded data removed]",
      "text/plain": [
       "<Figure size 432x288 with 1 Axes>"
      ]
     },
     "metadata": {
      "needs_background": "light"
     },
     "output_type": "display_data"
    },
    {
     "name": "stdout",
     "output_type": "stream",
     "text": [
      "---\n",
      "80 languages processed. Avg cost: -3076.6998138427734               \r"
     ]
    }
   ],
   "source": [
    "for alpha in np.arange(0.01,0.11,0.01):\n",
    "    \n",
    "    emb = EmbedPhones(num_features)\n",
    "    lr = 0.0001\n",
    "    optimizer = optim.Adam(emb.parameters(),lr=lr,weight_decay=1.)\n",
    "    \n",
    "    epochs = 1\n",
    "    costs = []\n",
    "    for e in range(epochs):\n",
    "        for step_num,allophone_data in enumerate(allophone_data_by_language_shuffled()):\n",
    "\n",
    "            allophone_dists   = 0.\n",
    "            nallophone_dists  = 0. \n",
    "\n",
    "            optimizer.zero_grad()\n",
    "\n",
    "            for allophone_list in allophone_data:\n",
    "                for i,j in distinct_pairs(len(allophone_list)):\n",
    "                    allophone_dists += sqdist(emb(allophone_list[i]),emb(allophone_list[j]))\n",
    "            for i,j in distinct_pairs(len(allophone_data)):\n",
    "                for x in allophone_data[i]:\n",
    "                    for y in allophone_data[j]:\n",
    "                        nallophone_dists += sqdist(emb(x),emb(y))\n",
    "\n",
    "            cost = allophone_dists - alpha * nallophone_dists\n",
    "            cost.backward()\n",
    "            costs.append(cost.item())\n",
    "            if step_num%10==0:\n",
    "                sys.stdout.write(str(step_num)+\" languages processed. Avg cost: \"+str(np.mean(costs))+\"               \\r\")\n",
    "                sys.stdout.flush()\n",
    "                costs = []\n",
    "            optimizer.step()\n",
    "\n",
    "\n",
    "    ipa_chars = wg.load_ipa_chars('eng-Latn')\n",
    "\n",
    "    dists = []\n",
    "    for c1 in ipa_chars:\n",
    "        for c2 in ipa_chars:\n",
    "            s1,s2 = to_panphon_fts(c1),to_panphon_fts(c2)\n",
    "            assert(len(s1)==1)\n",
    "            assert(len(s2)==1)\n",
    "            s1,s2 = s1[0],s2[0]\n",
    "            if c1 != c2 : dists.append(dist(s1,s2))\n",
    "    max_dist,min_dist = max(dists),min(dists)\n",
    "    print(\"\\nalpha =\",alpha)\n",
    "    print(max_dist,min_dist)\n",
    "    plt.hist(dists)\n",
    "    plt.show()\n",
    "    print(\"---\")"
   ]
  }
 ],
 "metadata": {
  "kernelspec": {
   "display_name": "Python 3",
   "language": "python",
   "name": "python3"
  },
  "language_info": {
   "codemirror_mode": {
    "name": "ipython",
    "version": 3
   },
   "file_extension": ".py",
   "mimetype": "text/x-python",
   "name": "python",
   "nbconvert_exporter": "python",
   "pygments_lexer": "ipython3",
   "version": "3.7.2"
  }
 },
 "nbformat": 4,
 "nbformat_minor": 2
}
