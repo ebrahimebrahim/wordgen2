{
 "cells": [
  {
   "cell_type": "code",
   "execution_count": 36,
   "metadata": {},
   "outputs": [],
   "source": [
    "import numpy as np\n",
    "\n",
    "import os,sys\n",
    "module_path = os.path.abspath(os.path.join('epitran'))\n",
    "if module_path not in sys.path:\n",
    "  sys.path.append(module_path)\n",
    "\n",
    "import panphon\n",
    "import panphon.distance\n",
    "import epitran\n",
    "import pickle\n",
    "\n",
    "from wordgen import *"
   ]
  },
  {
   "cell_type": "code",
   "execution_count": 5,
   "metadata": {},
   "outputs": [
    {
     "name": "stdout",
     "output_type": "stream",
     "text": [
      "Loading Epitran with language code ind-Latn... success!\n"
     ]
    }
   ],
   "source": [
    "wg = WordgenLearned(3,\"ind-Latn\")"
   ]
  },
  {
   "cell_type": "code",
   "execution_count": 8,
   "metadata": {},
   "outputs": [
    {
     "name": "stdout",
     "output_type": "stream",
     "text": [
      "About to learn from slice.txt\n",
      "For each word, each chunk of 3 sounds will be considered.\n",
      "Some of the words that could not be processed will be printed below; just check that nothing too bad is happening.\n",
      "\"[[1]]\" was not processed.\n",
      "\"|\" was not processed.                \n",
      "\".\" was not processed.\n",
      "\",\" was not processed.                \n",
      "\",\" was not processed.\n",
      "\",\" was not processed.\n",
      "\",\" was not processed.\n",
      "\".\" was not processed.\n",
      "\",\" was not processed.                \n",
      "\"(\" was not processed.\n",
      "\":\" was not processed.\n",
      "\"),\" was not processed.\n",
      "\".\" was not processed.\n",
      "\",\" was not processed.                \n",
      "\".\" was not processed.\n",
      "\",\" was not processed.                \n",
      "\";\" was not processed.\n",
      "\",\" was not processed.\n",
      "\".\" was not processed.\n",
      "\".\" was not processed.                \n",
      "\"(\" was not processed.                \n",
      "\")\" was not processed.\n",
      "\"(\" was not processed.\n",
      "\").\" was not processed.\n",
      "\"|\" was not processed.                \n",
      "\"400px\" was not processed.\n",
      "\"|\" was not processed.\n",
      "\"(\" was not processed.\n",
      "\")\" was not processed.\n",
      "\".\" was not processed.\n",
      "[Further output regarding unprocessed words will be suppressed]\n",
      "> 1000 lines processed                   \n"
     ]
    }
   ],
   "source": [
    "wg.learn_distribution(\"slice.txt\")"
   ]
  },
  {
   "cell_type": "code",
   "execution_count": 32,
   "metadata": {},
   "outputs": [
    {
     "data": {
      "text/plain": [
       "'d͡ʑəpilmuk'"
      ]
     },
     "execution_count": 32,
     "metadata": {},
     "output_type": "execute_result"
    }
   ],
   "source": [
    "wg.generate_word()"
   ]
  },
  {
   "cell_type": "markdown",
   "metadata": {},
   "source": [
    "Now we are interested in generating a \"phonology\" for a fictional language. This constitutes an equivalence relation on the set of IPA symbols. Then generate an orthography to display things. "
   ]
  },
  {
   "cell_type": "code",
   "execution_count": 41,
   "metadata": {},
   "outputs": [
    {
     "name": "stderr",
     "output_type": "stream",
     "text": [
      "/home/ebrahim/anaconda3/envs/deep-learning/lib/python3.6/site-packages/panphon/distance.py:53: YAMLLoadWarning: calling yaml.load() without Loader=... is deprecated, as the default Loader is unsafe. Please read https://msg.pyyaml.org/load for full details.\n",
      "  dogol_prime = yaml.load(f.read())\n"
     ]
    }
   ],
   "source": [
    "ft=panphon.FeatureTable()\n",
    "dst=panphon.distance.Distance()"
   ]
  },
  {
   "cell_type": "code",
   "execution_count": 74,
   "metadata": {},
   "outputs": [
    {
     "data": {
      "text/plain": [
       "7.0"
      ]
     },
     "execution_count": 74,
     "metadata": {},
     "output_type": "execute_result"
    }
   ],
   "source": [
    "dst.weighted_feature_edit_distance('k','g')"
   ]
  },
  {
   "cell_type": "code",
   "execution_count": null,
   "metadata": {},
   "outputs": [],
   "source": []
  }
 ],
 "metadata": {
  "kernelspec": {
   "display_name": "Python 3",
   "language": "python",
   "name": "python3"
  },
  "language_info": {
   "codemirror_mode": {
    "name": "ipython",
    "version": 3
   },
   "file_extension": ".py",
   "mimetype": "text/x-python",
   "name": "python",
   "nbconvert_exporter": "python",
   "pygments_lexer": "ipython3",
   "version": "3.6.8"
  }
 },
 "nbformat": 4,
 "nbformat_minor": 2
}
