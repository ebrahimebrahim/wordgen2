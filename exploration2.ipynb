{
 "cells": [
  {
   "cell_type": "code",
   "execution_count": 1,
   "metadata": {},
   "outputs": [
    {
     "name": "stdout",
     "output_type": "stream",
     "text": [
      "<Segment [+syl, +son, -cons, +cont, -delrel, -lat, -nas, 0strid, +voi, -sg, -cg, 0ant, -cor, 0distr, -lab, -hi, +lo, +back, -round, -velaric, +tense, +long]>\n",
      "<Segment [+syl, +son, -cons, +cont, -delrel, -lat, -nas, 0strid, +voi, -sg, -cg, 0ant, -cor, 0distr, -lab, -hi, +lo, +back, -round, -velaric, +tense, -long]>\n",
      "Using weights [1.0, 1.0, 1.0, 0.5, 0.25, 0.25, 0.25, 0.125, 0.125, 0.125, 0.125, 0.25, 0.25, 0.125, 0.25, 0.25, 0.25, 0.25, 0.25, 0.125, 0.25, 0.125]\n",
      "0.25\n"
     ]
    }
   ],
   "source": [
    "import os,sys\n",
    "def add_path_to_local_module(module_name):\n",
    "    module_path = os.path.abspath(os.path.join(module_name))\n",
    "    if module_path not in sys.path:\n",
    "        sys.path.append(module_path)\n",
    "add_path_to_local_module(\"epitran\")\n",
    "add_path_to_local_module(\"panphon\")\n",
    "\n",
    "import panphon.featuretable\n",
    "ft = panphon.featuretable.FeatureTable()\n",
    "a_long,a_short = ft.word_fts('aː ă')\n",
    "print(a_long)\n",
    "print(a_short)\n",
    "print(a_long.weighted_distance(a_short))"
   ]
  },
  {
   "cell_type": "code",
   "execution_count": 2,
   "metadata": {},
   "outputs": [],
   "source": [
    "import numpy as np\n",
    "\n",
    "import os,sys\n",
    "\n",
    "def add_path_to_local_module(module_name):\n",
    "    module_path = os.path.abspath(os.path.join(module_name))\n",
    "    if module_path not in sys.path:\n",
    "        sys.path.append(module_path)\n",
    "add_path_to_local_module(\"epitran\")\n",
    "add_path_to_local_module(\"panphon\")\n",
    "\n",
    "\n",
    "import panphon\n",
    "import panphon.distance\n",
    "import epitran\n",
    "import pickle\n",
    "\n",
    "from wordgen import *"
   ]
  },
  {
   "cell_type": "code",
   "execution_count": 3,
   "metadata": {},
   "outputs": [
    {
     "name": "stdout",
     "output_type": "stream",
     "text": [
      "Loading Epitran with language code ind-Latn... success!\n"
     ]
    }
   ],
   "source": [
    "wg = WordgenLearned(3,\"ind-Latn\")"
   ]
  },
  {
   "cell_type": "code",
   "execution_count": 4,
   "metadata": {},
   "outputs": [],
   "source": [
    "# wg.learn_distribution(\"slice.txt\")"
   ]
  },
  {
   "cell_type": "code",
   "execution_count": 5,
   "metadata": {},
   "outputs": [],
   "source": [
    "# wg.generate_word()"
   ]
  },
  {
   "cell_type": "markdown",
   "metadata": {},
   "source": [
    "Now we are interested in generating a \"phonology\" for a fictional language. This constitutes an equivalence relation on the set of IPA symbols. Then generate an orthography to display things. "
   ]
  },
  {
   "cell_type": "code",
   "execution_count": 6,
   "metadata": {},
   "outputs": [
    {
     "name": "stderr",
     "output_type": "stream",
     "text": [
      "/home/ebrahim/wordgen2/panphon/panphon/distance.py:73: YAMLLoadWarning: calling yaml.load() without Loader=... is deprecated, as the default Loader is unsafe. Please read https://msg.pyyaml.org/load for full details.\n",
      "  dogol_prime = yaml.load(f.read())\n"
     ]
    }
   ],
   "source": [
    "ft=panphon.FeatureTable()\n",
    "dst=panphon.distance.Distance()"
   ]
  },
  {
   "cell_type": "code",
   "execution_count": 7,
   "metadata": {},
   "outputs": [
    {
     "data": {
      "text/plain": [
       "(0.125, 1.1875)"
      ]
     },
     "execution_count": 7,
     "metadata": {},
     "output_type": "execute_result"
    }
   ],
   "source": [
    "dst.weighted_feature_edit_distance('k','ɡ'),dst.weighted_feature_edit_distance('k','d')"
   ]
  },
  {
   "cell_type": "code",
   "execution_count": 8,
   "metadata": {},
   "outputs": [],
   "source": [
    "epi = epitran.Epitran(\"eng-Latn\")"
   ]
  },
  {
   "cell_type": "code",
   "execution_count": 9,
   "metadata": {},
   "outputs": [
    {
     "data": {
      "text/plain": [
       "'pɑɹti'"
      ]
     },
     "execution_count": 9,
     "metadata": {},
     "output_type": "execute_result"
    }
   ],
   "source": [
    "epi.transliterate(\"party\")"
   ]
  },
  {
   "cell_type": "code",
   "execution_count": 10,
   "metadata": {},
   "outputs": [],
   "source": [
    "ft = panphon.featuretable.FeatureTable()"
   ]
  },
  {
   "cell_type": "code",
   "execution_count": 11,
   "metadata": {
    "scrolled": true
   },
   "outputs": [
    {
     "data": {
      "text/plain": [
       "array([[-1],\n",
       "       [ 1],\n",
       "       [ 1],\n",
       "       [-1],\n",
       "       [ 1]])"
      ]
     },
     "execution_count": 11,
     "metadata": {},
     "output_type": "execute_result"
    }
   ],
   "source": [
    "ft.word_array(['voi'],\"pɑɹti\")"
   ]
  },
  {
   "cell_type": "code",
   "execution_count": 12,
   "metadata": {
    "scrolled": true
   },
   "outputs": [
    {
     "name": "stdout",
     "output_type": "stream",
     "text": [
      "[-1, -1, 1, -1, -1, -1, -1, 0, -1, -1, -1, 1, -1, 0, 1, -1, -1, -1, -1, -1, 0, -1]\n",
      "[1, 1, -1, 1, 0, -1, -1, 0, 1, -1, -1, 0, -1, 0, -1, -1, 1, 1, -1, -1, 1, -1]\n",
      "[-1, 1, -1, 1, -1, -1, -1, 0, 1, -1, -1, 1, 1, -1, -1, 1, -1, 1, 1, -1, 0, -1]\n",
      "[-1, -1, 1, -1, -1, -1, -1, 0, -1, -1, -1, 1, 1, -1, -1, -1, -1, -1, -1, -1, 0, -1]\n",
      "[1, 1, -1, 1, -1, -1, -1, 0, 1, -1, -1, 0, -1, 0, -1, 1, -1, -1, -1, -1, 1, -1]\n"
     ]
    }
   ],
   "source": [
    "for v in ft.word_to_vector_list(\"pɑɹti\",numeric=True): print(list(v))"
   ]
  },
  {
   "cell_type": "code",
   "execution_count": 13,
   "metadata": {
    "scrolled": true
   },
   "outputs": [
    {
     "name": "stdout",
     "output_type": "stream",
     "text": [
      "[('syl', 1.0), ('son', 1.0), ('cons', 1.0), ('cont', 0.5), ('delrel', 0.25), ('lat', 0.25), ('nas', 0.25), ('strid', 0.125), ('voi', 0.125), ('sg', 0.125), ('cg', 0.125), ('ant', 0.25), ('cor', 0.25), ('distr', 0.125), ('lab', 0.25), ('hi', 0.25), ('lo', 0.25), ('back', 0.25), ('round', 0.25), ('velaric', 0.125), ('tense', 0.25), ('long', 0.125)]\n"
     ]
    }
   ],
   "source": [
    "# I think these weights are chosen by panphon authors based on their sense for what matters when it comes\n",
    "# to phonological differences. (Probably based on some empirical knowledge since they are linguists...)\n",
    "print(list(zip(dst.fm.names,dst.fm.weights)))"
   ]
  },
  {
   "cell_type": "markdown",
   "metadata": {},
   "source": [
    "To generate a phonology, here's my idea:\n",
    "- Pick a random batch of weights like the one shown above. Center your choice on the one above, and draw from a gaussian distribution... somehow pick variance intelligently. The chosen weights will be fixed for the phonology generation.\n",
    "- Pick (randomly? or hard coded from start?) a maximum number of phonemes $M$, like 40 or 50.\n",
    "- Gather all IPA symbols somehow. There's the csv files in panphon/data like ipa_all.csv... but idk if that will get everything the epitrans.transliterate can produce. Instead, you could  go through your directory of saved WordgenLearned objects and union together all the sets of ipa symbols found in there (excluding the start and end tokens). Let's call the resulting set of IPA symbols $S$.\n",
    "- The phonology will be a mapping $S\\rightarrow\\mathbb{N}$. Think of at as an enumeration of equivalence classes. The weights chosen above define a particular distance function $d:S\\times S\\rightarrow \\mathbb{R}$. To generate a phonology:\n",
    "  - Start with an injective mapping $f:S\\rightarrow\\mathbb{N}$.\n",
    "  - Randomly pick an element $x$ of $S$ and randomly choose a radius $r$. The radius will be pulled from a distribution that is fixed beforehand (uniform? gaussian? this will require experimentation to pick).\n",
    "  - For each $y\\in S$ with $d(y,x)<r$, redefine $f(y)$ to be $f(x)$ (i.e. \"identify\" those two sounds).\n",
    "  - Now check how many phonemes there are (i.e. size of range of $f$); if it's $\\leq$ the maximum $M$, then stop. Otherwise pick another $x\\in S$ and repeat the process."
   ]
  },
  {
   "cell_type": "code",
   "execution_count": 14,
   "metadata": {},
   "outputs": [
    {
     "name": "stdout",
     "output_type": "stream",
     "text": [
      "{'p', 't͡ʃ', 'f', 'n̩', 't', 'm̩', 'e', 'ʔ', 'ŋ', 'k', 'ɔ', 'ɪ', 'b', 'j', 'w', 'v', 'ɹ', 'z', 'o', 'ʃ', 'ə', 'ɹ̩', 'ð', 'h', 'ɑ', 'ɡ', 'd', 'l', 'u', 'n', 'a', 'ʊ', 'θ', 'm', 'æ', 's', 'd͡ʒ', 'ɾ', 'ʌ', 'ʒ', 'i', 'ɛ'}\n"
     ]
    }
   ],
   "source": [
    "print(wg.load_ipa_chars('eng-Latn'))"
   ]
  },
  {
   "cell_type": "code",
   "execution_count": 15,
   "metadata": {},
   "outputs": [
    {
     "name": "stdout",
     "output_type": "stream",
     "text": [
      "[(1, 'syl'), (1, 'son'), (-1, 'cons'), (1, 'cont'), (-1, 'delrel'), (-1, 'lat'), (-1, 'nas'), (0, 'strid'), (1, 'voi'), (-1, 'sg'), (-1, 'cg'), (0, 'ant'), (-1, 'cor'), (0, 'distr'), (-1, 'lab'), (-1, 'hi'), (1, 'lo'), (1, 'back'), (-1, 'round'), (-1, 'velaric'), (1, 'tense'), (-1, 'long')]\n"
     ]
    }
   ],
   "source": [
    "print(list(\n",
    "    zip(\n",
    "        ft.word_to_vector_list('a',numeric=True)[0],\n",
    "        dst.fm.names,\n",
    ")))"
   ]
  },
  {
   "cell_type": "code",
   "execution_count": 16,
   "metadata": {
    "scrolled": true
   },
   "outputs": [
    {
     "data": {
      "text/plain": [
       "[<Segment [+syl, +son, -cons, +cont, -delrel, -lat, -nas, 0strid, +voi, -sg, -cg, 0ant, -cor, 0distr, -lab, -hi, +lo, +back, -round, -velaric, +tense, -long]>]"
      ]
     },
     "execution_count": 16,
     "metadata": {},
     "output_type": "execute_result"
    }
   ],
   "source": [
    "ft.word_fts('a')"
   ]
  },
  {
   "cell_type": "code",
   "execution_count": 17,
   "metadata": {
    "scrolled": true
   },
   "outputs": [],
   "source": [
    "a_long,a_short = ft.word_fts('aː ă')"
   ]
  },
  {
   "cell_type": "code",
   "execution_count": 18,
   "metadata": {},
   "outputs": [
    {
     "name": "stdout",
     "output_type": "stream",
     "text": [
      "Using weights [1.0, 1.0, 1.0, 0.5, 0.25, 0.25, 0.25, 0.125, 0.125, 0.125, 0.125, 0.25, 0.25, 0.125, 0.25, 0.25, 0.25, 0.25, 0.25, 0.125, 0.25, 0.125]\n"
     ]
    },
    {
     "data": {
      "text/plain": [
       "0.25"
      ]
     },
     "execution_count": 18,
     "metadata": {},
     "output_type": "execute_result"
    }
   ],
   "source": [
    "a_long.weighted_distance(a_short)"
   ]
  },
  {
   "cell_type": "code",
   "execution_count": 19,
   "metadata": {
    "scrolled": false
   },
   "outputs": [
    {
     "data": {
      "text/plain": [
       "(0.75, 0.625)"
      ]
     },
     "execution_count": 19,
     "metadata": {},
     "output_type": "execute_result"
    }
   ],
   "source": [
    "dst.weighted_feature_edit_distance('a','ɔ'),0.25+0.25+0.125"
   ]
  },
  {
   "cell_type": "code",
   "execution_count": 20,
   "metadata": {
    "scrolled": false
   },
   "outputs": [
    {
     "data": {
      "text/plain": [
       "<Segment [+syl, +son, -cons, +cont, -delrel, -lat, -nas, 0strid, +voi, -sg, -cg, 0ant, -cor, 0distr, -lab, -hi, +lo, +back, -round, -velaric, +tense, -long]>"
      ]
     },
     "execution_count": 20,
     "metadata": {},
     "output_type": "execute_result"
    }
   ],
   "source": [
    "a_short"
   ]
  },
  {
   "cell_type": "code",
   "execution_count": 21,
   "metadata": {},
   "outputs": [],
   "source": [
    "import numpy as np"
   ]
  },
  {
   "cell_type": "code",
   "execution_count": 22,
   "metadata": {},
   "outputs": [
    {
     "data": {
      "text/plain": [
       "[1.0,\n",
       " 1.0,\n",
       " 1.0,\n",
       " 0.5,\n",
       " 0.25,\n",
       " 0.25,\n",
       " 0.25,\n",
       " 0.125,\n",
       " 0.125,\n",
       " 0.125,\n",
       " 0.125,\n",
       " 0.25,\n",
       " 0.25,\n",
       " 0.125,\n",
       " 0.25,\n",
       " 0.25,\n",
       " 0.25,\n",
       " 0.25,\n",
       " 0.25,\n",
       " 0.125,\n",
       " 0.25,\n",
       " 0.125]"
      ]
     },
     "execution_count": 22,
     "metadata": {},
     "output_type": "execute_result"
    }
   ],
   "source": [
    "ft = panphon.featuretable.FeatureTable()\n",
    "ft.weights"
   ]
  },
  {
   "cell_type": "code",
   "execution_count": 23,
   "metadata": {},
   "outputs": [
    {
     "data": {
      "text/plain": [
       "22"
      ]
     },
     "execution_count": 23,
     "metadata": {},
     "output_type": "execute_result"
    }
   ],
   "source": [
    "len(ft.weights)"
   ]
  },
  {
   "cell_type": "code",
   "execution_count": 30,
   "metadata": {},
   "outputs": [
    {
     "name": "stdout",
     "output_type": "stream",
     "text": [
      "[0.8539606  1.38619248 0.90889317 0.51787553 0.25336313 0.12384801\n",
      " 0.17902714 0.11880967 0.15264634 0.09589401 0.14825509 0.2610874\n",
      " 0.18114538 0.18196437 0.25593766 0.32248396 0.21591839 0.29766049\n",
      " 0.25737964 0.08806201 0.14881637 0.17577918]\n"
     ]
    }
   ],
   "source": [
    "# Choose random weights based around the ones that were chosen for panphon. \n",
    "# This amounts to a choice of metric on the space of phones\n",
    "weights = np.array([np.exp(np.random.normal(np.log(w),0.25)) for w in ft.weights])\n",
    "weights *= sum(ft.weights)/weights.sum()\n",
    "print(weights)"
   ]
  },
  {
   "cell_type": "code",
   "execution_count": 31,
   "metadata": {},
   "outputs": [
    {
     "name": "stdout",
     "output_type": "stream",
     "text": [
      "Using weights [1.0, 1.0, 1.0, 0.5, 0.25, 0.25, 0.25, 0.125, 0.125, 0.125, 0.125, 0.25, 0.25, 0.125, 0.25, 0.25, 0.25, 0.25, 0.25, 0.125, 0.25, 0.125]\n"
     ]
    },
    {
     "data": {
      "text/plain": [
       "0.25"
      ]
     },
     "execution_count": 31,
     "metadata": {},
     "output_type": "execute_result"
    }
   ],
   "source": [
    "a_short.weighted_distance(a_long)"
   ]
  },
  {
   "cell_type": "code",
   "execution_count": 32,
   "metadata": {},
   "outputs": [
    {
     "name": "stdout",
     "output_type": "stream",
     "text": [
      "Using weights [0.8539606  1.38619248 0.90889317 0.51787553 0.25336313 0.12384801\n",
      " 0.17902714 0.11880967 0.15264634 0.09589401 0.14825509 0.2610874\n",
      " 0.18114538 0.18196437 0.25593766 0.32248396 0.21591839 0.29766049\n",
      " 0.25737964 0.08806201 0.14881637 0.17577918]\n"
     ]
    },
    {
     "data": {
      "text/plain": [
       "0.35155836158966364"
      ]
     },
     "execution_count": 32,
     "metadata": {},
     "output_type": "execute_result"
    }
   ],
   "source": [
    "a_short.weighted_distance(a_long,weights)"
   ]
  },
  {
   "cell_type": "code",
   "execution_count": null,
   "metadata": {},
   "outputs": [],
   "source": []
  }
 ],
 "metadata": {
  "kernelspec": {
   "display_name": "Python 3",
   "language": "python",
   "name": "python3"
  },
  "language_info": {
   "codemirror_mode": {
    "name": "ipython",
    "version": 3
   },
   "file_extension": ".py",
   "mimetype": "text/x-python",
   "name": "python",
   "nbconvert_exporter": "python",
   "pygments_lexer": "ipython3",
   "version": "3.6.8"
  }
 },
 "nbformat": 4,
 "nbformat_minor": 2
}
