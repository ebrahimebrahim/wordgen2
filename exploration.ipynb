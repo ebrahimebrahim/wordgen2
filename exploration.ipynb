{
 "cells": [
  {
   "cell_type": "markdown",
   "metadata": {},
   "source": [
    "Do this to get wikipedia's latest dump of english language data:\n",
    "\n",
    "``` wget http://download.wikimedia.org/enwiki/latest/enwiki-latest-pages-articles.xml.bz2 ```\n",
    "\n",
    "It's going to be a very large file, several gigabytes.\n",
    "\n",
    "Replace \"en\" by the appropriate [language code](https://en.wikipedia.org/wiki/List_of_ISO_639-1_codes) to grab it for a different language.\n",
    "\n",
    "Run \n",
    "\n",
    "```WikiExtractor.py -cb 250K -o extracted itwiki-latest-pages-articles.xml.bz2```\n",
    "\n",
    "to get a cleaned up version.\n",
    "\n",
    "Alternatively, there is some pre-cleaned text available for download at the [polyglot project](https://sites.google.com/site/rmyeid/projects/polyglot)."
   ]
  },
  {
   "cell_type": "code",
   "execution_count": 546,
   "metadata": {},
   "outputs": [],
   "source": [
    "import re\n",
    "\n",
    "def extract_words(line):\n",
    "    line = line.lower()\n",
    "    words = line.split(' ')\n",
    "    words = [word.strip(' .()!;\\n') for word in words]\n",
    "    words = list(filter(lambda w:w.isalpha(),words))\n",
    "    return words\n",
    "\n",
    "words=[]\n",
    "with open(\"peuptext.txt\") as f:\n",
    "    for line in f.readlines():\n",
    "        words = words + extract_words(line)"
   ]
  },
  {
   "cell_type": "code",
   "execution_count": 547,
   "metadata": {},
   "outputs": [],
   "source": [
    "glyphs = set(c for word in words for c in word)\n",
    "glyphs.add('WORD_START')\n",
    "glyphs.add('WORD_END')"
   ]
  },
  {
   "cell_type": "code",
   "execution_count": 548,
   "metadata": {},
   "outputs": [],
   "source": [
    "num_glyphs = len(glyphs)\n",
    "int_to_glyph = dict(enumerate(glyphs))\n",
    "glyph_to_int = {v:k for k,v in int_to_glyph.items()}"
   ]
  },
  {
   "cell_type": "code",
   "execution_count": 549,
   "metadata": {},
   "outputs": [],
   "source": [
    "import numpy as np"
   ]
  },
  {
   "cell_type": "code",
   "execution_count": 550,
   "metadata": {},
   "outputs": [],
   "source": [
    "counts = np.zeros((num_glyphs,num_glyphs,num_glyphs,num_glyphs))\n",
    "for word in words:\n",
    "    for i in range(len(word)+1):\n",
    "        c1 = glyph_to_int['WORD_START'] if i-3<0 else glyph_to_int[word[i-3]]\n",
    "        c2 = glyph_to_int['WORD_START'] if i-2<0 else glyph_to_int[word[i-2]]\n",
    "        c3 = glyph_to_int['WORD_START'] if i-1<0 else glyph_to_int[word[i-1]]\n",
    "        c4 = glyph_to_int['WORD_END'] if i>=len(word) else glyph_to_int[word[i]]\n",
    "        counts[c1,c2,c3,c4] += 1\n",
    "totals = counts.sum(axis=3)\n",
    "distribution = counts / (np.vectorize(lambda x : x if x!=0 else 1)(totals[:,:,:,np.newaxis]))"
   ]
  },
  {
   "cell_type": "code",
   "execution_count": 551,
   "metadata": {},
   "outputs": [],
   "source": [
    "def generate_word(dist):\n",
    "    c1 = c2 = c3 = glyph_to_int['WORD_START']\n",
    "    word = []\n",
    "    while c3!=glyph_to_int['WORD_END']:\n",
    "        if distribution[c1,c2,c3].sum()==0:\n",
    "            next_char = np.random.choice(range(num_glyphs))\n",
    "        else:\n",
    "            next_char = np.random.choice(range(num_glyphs),p=distribution[c1,c2,c3])\n",
    "        c1=c2\n",
    "        c2=c3\n",
    "        c3=next_char\n",
    "        word.append(next_char)\n",
    "    return ''.join(int_to_glyph[c] for c in word[:-1])"
   ]
  },
  {
   "cell_type": "code",
   "execution_count": 570,
   "metadata": {
    "scrolled": true
   },
   "outputs": [
    {
     "data": {
      "text/plain": [
       "'genersation'"
      ]
     },
     "execution_count": 570,
     "metadata": {},
     "output_type": "execute_result"
    }
   ],
   "source": [
    "generate_word(distribution)"
   ]
  }
 ],
 "metadata": {
  "kernelspec": {
   "display_name": "Python 3",
   "language": "python",
   "name": "python3"
  },
  "language_info": {
   "codemirror_mode": {
    "name": "ipython",
    "version": 3
   },
   "file_extension": ".py",
   "mimetype": "text/x-python",
   "name": "python",
   "nbconvert_exporter": "python",
   "pygments_lexer": "ipython3",
   "version": "3.6.8"
  }
 },
 "nbformat": 4,
 "nbformat_minor": 2
}
